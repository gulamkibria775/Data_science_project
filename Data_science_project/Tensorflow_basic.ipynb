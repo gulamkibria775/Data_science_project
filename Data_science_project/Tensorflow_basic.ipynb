{
  "nbformat": 4,
  "nbformat_minor": 0,
  "metadata": {
    "colab": {
      "provenance": [],
      "authorship_tag": "ABX9TyOTK2R7KWpX94kWord+ulGW",
      "include_colab_link": true
    },
    "kernelspec": {
      "name": "python3",
      "display_name": "Python 3"
    },
    "language_info": {
      "name": "python"
    }
  },
  "cells": [
    {
      "cell_type": "markdown",
      "metadata": {
        "id": "view-in-github",
        "colab_type": "text"
      },
      "source": [
        "<a href=\"https://colab.research.google.com/github/gulamkibria775/Data_science_project/blob/main/Data_science_project/Tensorflow_basic.ipynb\" target=\"_parent\"><img src=\"https://colab.research.google.com/assets/colab-badge.svg\" alt=\"Open In Colab\"/></a>"
      ]
    },
    {
      "cell_type": "code",
      "execution_count": null,
      "metadata": {
        "colab": {
          "base_uri": "https://localhost:8080/",
          "height": 38
        },
        "id": "oEfH2FFLjQV7",
        "outputId": "9656633a-dea6-43d9-db73-ea53c9b703d5"
      },
      "outputs": [
        {
          "output_type": "execute_result",
          "data": {
            "text/plain": [
              "'2.14.0'"
            ],
            "application/vnd.google.colaboratory.intrinsic+json": {
              "type": "string"
            }
          },
          "metadata": {},
          "execution_count": 2
        }
      ],
      "source": [
        "import tensorflow as tf\n",
        "tf.version.VERSION   or print(tf.__version__)\n"
      ]
    },
    {
      "cell_type": "code",
      "source": [
        "import tensorflow as tf\n",
        "tf.compat.v1.disable_eager_execution()\n",
        "a=tf.constant(2)\n",
        "b=tf.constant(5)\n",
        "c=a+b\n",
        "print(c)"
      ],
      "metadata": {
        "colab": {
          "base_uri": "https://localhost:8080/"
        },
        "id": "jgZGQcapu5eF",
        "outputId": "f45f9e86-9b36-4e45-dadf-66dae333f2c2"
      },
      "execution_count": null,
      "outputs": [
        {
          "output_type": "stream",
          "name": "stdout",
          "text": [
            "Tensor(\"add:0\", shape=(), dtype=int32)\n"
          ]
        }
      ]
    },
    {
      "cell_type": "code",
      "source": [
        "ssn=tf.compat.v1.Session()\n",
        "ssn.run(c)"
      ],
      "metadata": {
        "colab": {
          "base_uri": "https://localhost:8080/"
        },
        "id": "odPOlPlju5hX",
        "outputId": "6723ce20-08f1-40c6-e1b5-1bf2fdc18e1f"
      },
      "execution_count": null,
      "outputs": [
        {
          "output_type": "execute_result",
          "data": {
            "text/plain": [
              "7"
            ]
          },
          "metadata": {},
          "execution_count": 4
        }
      ]
    },
    {
      "cell_type": "code",
      "source": [
        "x1=tf.constant([1,2,3,4,5])\n",
        "x2=tf.constant([3,4,5,6,7])\n",
        "result=x1*x2\n",
        "print(result)\n",
        "ssn.run(result)"
      ],
      "metadata": {
        "colab": {
          "base_uri": "https://localhost:8080/"
        },
        "id": "89-Q4StsvwwK",
        "outputId": "68d3146f-a1fd-493a-8f7a-9075b74692df"
      },
      "execution_count": null,
      "outputs": [
        {
          "output_type": "stream",
          "name": "stdout",
          "text": [
            "Tensor(\"mul_2:0\", shape=(5,), dtype=int32)\n"
          ]
        },
        {
          "output_type": "execute_result",
          "data": {
            "text/plain": [
              "array([ 3,  8, 15, 24, 35], dtype=int32)"
            ]
          },
          "metadata": {},
          "execution_count": 7
        }
      ]
    },
    {
      "cell_type": "markdown",
      "source": [
        "Placeholder : not providing values at the time of declaration but providing values later at the time of execution\n"
      ],
      "metadata": {
        "id": "6z2tA4kSwTIW"
      }
    },
    {
      "cell_type": "code",
      "source": [
        "a=tf.compat.v1.placeholder(tf.float32)\n",
        "b=tf.compat.v1.placeholder(tf.float32)\n",
        "c=a+b\n",
        "ssn.run(c,{a:10,b:20})"
      ],
      "metadata": {
        "colab": {
          "base_uri": "https://localhost:8080/"
        },
        "id": "N_e-pSJXwaJn",
        "outputId": "878fad17-3ccf-4838-e0bd-58395dd971ae"
      },
      "execution_count": null,
      "outputs": [
        {
          "output_type": "execute_result",
          "data": {
            "text/plain": [
              "30.0"
            ]
          },
          "metadata": {},
          "execution_count": 8
        }
      ]
    },
    {
      "cell_type": "code",
      "source": [
        "ssn.run(c,{a:[1,2,3],b:[4,2,1]})"
      ],
      "metadata": {
        "colab": {
          "base_uri": "https://localhost:8080/"
        },
        "id": "g1MFvm0pw58O",
        "outputId": "bfdee382-b3d7-4268-9e1a-79ebdfb7d314"
      },
      "execution_count": null,
      "outputs": [
        {
          "output_type": "execute_result",
          "data": {
            "text/plain": [
              "array([5., 4., 4.], dtype=float32)"
            ]
          },
          "metadata": {},
          "execution_count": 9
        }
      ]
    },
    {
      "cell_type": "markdown",
      "source": [
        "Variable"
      ],
      "metadata": {
        "id": "6w8xYBeBxGw7"
      }
    },
    {
      "cell_type": "code",
      "source": [
        "x=tf.compat.v1.Variable([1])\n",
        "w=tf.compat.v1.Variable([3])\n",
        "c=x*w\n",
        "init=tf.compat.v1.global_variables_initializer()\n",
        "ssn.run(init)\n",
        "ssn.run(c)"
      ],
      "metadata": {
        "colab": {
          "base_uri": "https://localhost:8080/"
        },
        "id": "82e45QRdxI7g",
        "outputId": "3236364c-71c6-4fdc-b5c0-c1578a4f363b"
      },
      "execution_count": null,
      "outputs": [
        {
          "output_type": "execute_result",
          "data": {
            "text/plain": [
              "array([3], dtype=int32)"
            ]
          },
          "metadata": {},
          "execution_count": 12
        }
      ]
    }
  ]
}