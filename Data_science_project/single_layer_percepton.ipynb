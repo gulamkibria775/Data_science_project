{
  "nbformat": 4,
  "nbformat_minor": 0,
  "metadata": {
    "colab": {
      "provenance": [],
      "authorship_tag": "ABX9TyPLlp4U9kv3Ti2sySZqpKyf",
      "include_colab_link": true
    },
    "kernelspec": {
      "name": "python3",
      "display_name": "Python 3"
    },
    "language_info": {
      "name": "python"
    }
  },
  "cells": [
    {
      "cell_type": "markdown",
      "metadata": {
        "id": "view-in-github",
        "colab_type": "text"
      },
      "source": [
        "<a href=\"https://colab.research.google.com/github/gulamkibria775/Data_science_project/blob/main/Data_science_project/single_layer_percepton.ipynb\" target=\"_parent\"><img src=\"https://colab.research.google.com/assets/colab-badge.svg\" alt=\"Open In Colab\"/></a>"
      ]
    },
    {
      "cell_type": "code",
      "source": [
        "import tensorflow as tf\n",
        "import os\n",
        "tf.compat.v1.disable_eager_execution()\n",
        "w=tf.Variable([.2])\n",
        "b=tf.Variable([-.2])\n",
        "x=tf.compat.v1.placeholder(tf.float32)"
      ],
      "metadata": {
        "id": "z-x6P8yFCoJs"
      },
      "execution_count": 14,
      "outputs": []
    },
    {
      "cell_type": "code",
      "source": [
        "model=w*x+b\n",
        "init=tf.compat.v1.global_variables_initializer()\n"
      ],
      "metadata": {
        "id": "MndbnB3QDhHY"
      },
      "execution_count": 15,
      "outputs": []
    },
    {
      "cell_type": "code",
      "source": [
        "s=tf.compat.v1.Session()\n",
        "s.run(init)\n",
        "s.run(w)\n",
        "s.run(b)"
      ],
      "metadata": {
        "colab": {
          "base_uri": "https://localhost:8080/"
        },
        "id": "sgC-mBf_DsBg",
        "outputId": "a00677b5-beda-4ae0-f90a-8619c9f12614"
      },
      "execution_count": 17,
      "outputs": [
        {
          "output_type": "execute_result",
          "data": {
            "text/plain": [
              "array([-0.2], dtype=float32)"
            ]
          },
          "metadata": {},
          "execution_count": 17
        }
      ]
    },
    {
      "cell_type": "code",
      "source": [
        "print(\"predicrted output is:\")\n",
        "print(s.run(model,{x:[1,2,3,4]}))"
      ],
      "metadata": {
        "colab": {
          "base_uri": "https://localhost:8080/"
        },
        "id": "GOZO2aGaD-UW",
        "outputId": "14cd527e-a6f7-4755-f563-0b1e263ecfdf"
      },
      "execution_count": 18,
      "outputs": [
        {
          "output_type": "stream",
          "name": "stdout",
          "text": [
            "predicrted output is:\n",
            "[0.         0.2        0.40000004 0.6       ]\n"
          ]
        }
      ]
    },
    {
      "cell_type": "code",
      "source": [
        "y=tf.compat.v1.placeholder(tf.float32)\n",
        "square_details=tf.square(model-y)\n",
        "loss=tf.reduce_sum(square_details)"
      ],
      "metadata": {
        "id": "6fmWcqu7ERCk"
      },
      "execution_count": 19,
      "outputs": []
    },
    {
      "cell_type": "code",
      "source": [
        "print(\"loss or eorror is :\")\n",
        "print(s.run(loss,{x:[1,2,3,4],y:[0,-1,-2,-3]}))"
      ],
      "metadata": {
        "colab": {
          "base_uri": "https://localhost:8080/"
        },
        "id": "JK4xTFe9EsAC",
        "outputId": "012a314f-a891-453d-d61d-155563429e6e"
      },
      "execution_count": 20,
      "outputs": [
        {
          "output_type": "stream",
          "name": "stdout",
          "text": [
            "loss or eorror is :\n",
            "20.16\n"
          ]
        }
      ]
    }
  ]
}