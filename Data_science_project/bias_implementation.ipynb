{
  "nbformat": 4,
  "nbformat_minor": 0,
  "metadata": {
    "colab": {
      "provenance": [],
      "authorship_tag": "ABX9TyN3GTPgGuLLB9Ape9UJRJAl",
      "include_colab_link": true
    },
    "kernelspec": {
      "name": "python3",
      "display_name": "Python 3"
    },
    "language_info": {
      "name": "python"
    }
  },
  "cells": [
    {
      "cell_type": "markdown",
      "metadata": {
        "id": "view-in-github",
        "colab_type": "text"
      },
      "source": [
        "<a href=\"https://colab.research.google.com/github/gulamkibria775/Data_science_project/blob/main/Data_science_project/bias_implementation.ipynb\" target=\"_parent\"><img src=\"https://colab.research.google.com/assets/colab-badge.svg\" alt=\"Open In Colab\"/></a>"
      ]
    },
    {
      "cell_type": "code",
      "source": [
        "import tensorflow as tf\n",
        "tf.compat.v1.disable_eager_execution()\n",
        "w=tf.Variable([2.0])\n",
        "b=tf.Variable([1.0])\n",
        "x=tf.compat.v1.placeholder(tf.float32)"
      ],
      "metadata": {
        "id": "5gWtXfDMI_f0"
      },
      "execution_count": 30,
      "outputs": []
    },
    {
      "cell_type": "code",
      "source": [
        "model=w*x+b\n",
        "init=tf.compat.v1.global_variables_initializer()\n"
      ],
      "metadata": {
        "id": "4TnvbRVKJf_P"
      },
      "execution_count": 32,
      "outputs": []
    },
    {
      "cell_type": "code",
      "source": [
        "#initialize the session\n",
        "sess=tf.compat.v1.Session()\n",
        "sess.run(init)"
      ],
      "metadata": {
        "id": "MTZeYFIQJvZm"
      },
      "execution_count": 33,
      "outputs": []
    },
    {
      "cell_type": "code",
      "source": [
        "print(\"predicted output when input is 0:\")\n",
        "print(sess.run(model,{x:[0]}))"
      ],
      "metadata": {
        "colab": {
          "base_uri": "https://localhost:8080/"
        },
        "id": "AKHMa8ggJ7AA",
        "outputId": "99374996-81e5-4a53-957e-2111551552b7"
      },
      "execution_count": 34,
      "outputs": [
        {
          "output_type": "stream",
          "name": "stdout",
          "text": [
            "predicted output when input is 0:\n",
            "[1.]\n"
          ]
        }
      ]
    },
    {
      "cell_type": "code",
      "source": [
        "print(\"predicted output when input is 0\")\n",
        "print(sess.run(model,{x:[0,0,0]}))"
      ],
      "metadata": {
        "colab": {
          "base_uri": "https://localhost:8080/"
        },
        "id": "UZmKoqsQKFD4",
        "outputId": "dc36b210-9288-4aaf-a8a8-6567e610e3c2"
      },
      "execution_count": 35,
      "outputs": [
        {
          "output_type": "stream",
          "name": "stdout",
          "text": [
            "predicted output when input is 0\n",
            "[1. 1. 1.]\n"
          ]
        }
      ]
    },
    {
      "cell_type": "code",
      "source": [
        "print(sess.run(model,{x:[1,2,3,4]}))"
      ],
      "metadata": {
        "colab": {
          "base_uri": "https://localhost:8080/"
        },
        "id": "sMP5nE16KTea",
        "outputId": "490ecd09-3f76-4dc3-cf24-775954af2ff2"
      },
      "execution_count": 36,
      "outputs": [
        {
          "output_type": "stream",
          "name": "stdout",
          "text": [
            "[3. 5. 7. 9.]\n"
          ]
        }
      ]
    },
    {
      "cell_type": "code",
      "source": [],
      "metadata": {
        "id": "lMoizQ7HKZxo"
      },
      "execution_count": null,
      "outputs": []
    }
  ]
}