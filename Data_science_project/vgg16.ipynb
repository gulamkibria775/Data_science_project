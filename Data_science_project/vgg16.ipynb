{
  "nbformat": 4,
  "nbformat_minor": 0,
  "metadata": {
    "colab": {
      "provenance": [],
      "authorship_tag": "ABX9TyMrel6vR2CsYxgrI/n3bExo",
      "include_colab_link": true
    },
    "kernelspec": {
      "name": "python3",
      "display_name": "Python 3"
    },
    "language_info": {
      "name": "python"
    }
  },
  "cells": [
    {
      "cell_type": "markdown",
      "metadata": {
        "id": "view-in-github",
        "colab_type": "text"
      },
      "source": [
        "<a href=\"https://colab.research.google.com/github/gulamkibria775/Data_science_project/blob/main/Data_science_project/vgg16.ipynb\" target=\"_parent\"><img src=\"https://colab.research.google.com/assets/colab-badge.svg\" alt=\"Open In Colab\"/></a>"
      ]
    },
    {
      "cell_type": "code",
      "execution_count": 1,
      "metadata": {
        "colab": {
          "base_uri": "https://localhost:8080/"
        },
        "id": "WbUL5gK02vEI",
        "outputId": "1ebe013a-4047-4590-ecf7-61402d10c9e9"
      },
      "outputs": [
        {
          "output_type": "stream",
          "name": "stdout",
          "text": [
            "Mounted at /content/driver\n"
          ]
        }
      ],
      "source": [
        "from google.colab import drive\n",
        "drive.mount(\"/content/driver\")"
      ]
    },
    {
      "cell_type": "code",
      "source": [],
      "metadata": {
        "id": "fxHthyo35Thm"
      },
      "execution_count": null,
      "outputs": []
    },
    {
      "cell_type": "code",
      "source": [],
      "metadata": {
        "id": "pCslaml_5Tk8"
      },
      "execution_count": null,
      "outputs": []
    },
    {
      "cell_type": "code",
      "source": [
        "# Import necessary libraries\n",
        "import tensorflow as tf\n",
        "from tensorflow.keras import layers, models\n",
        "from tensorflow.keras.optimizers import Adam\n",
        "from tensorflow.keras.preprocessing.image import ImageDataGenerator\n",
        "\n",
        "# Step 1: Prepare the data\n",
        "# Organize your dataset into three folders: 'class1', 'class2', and 'class3'\n",
        "# Inside each folder, place images corresponding to the respective classes.\n",
        "\n",
        "train_data_dir = '/content/driver/MyDrive/All_data_file/rooms'\n",
        "# validation_data_dir = 'path/to/validation_data'\n",
        "test_data_dir = '/content/driver/MyDrive/All_data_file/rooms'\n",
        "\n",
        "# Step 2: Define data generators with augmentation for training\n",
        "train_datagen = ImageDataGenerator(\n",
        "    rescale=1./255,\n",
        "    shear_range=0.2,\n",
        "    zoom_range=0.2,\n",
        "    horizontal_flip=True\n",
        ")\n",
        "\n",
        "test_datagen = ImageDataGenerator(rescale=1./255)\n",
        "\n",
        "train_generator = train_datagen.flow_from_directory(\n",
        "    train_data_dir,\n",
        "    target_size=(224, 224),\n",
        "    batch_size=32,\n",
        "    class_mode='categorical'\n",
        ")\n",
        "\n",
        "# validation_generator = test_datagen.flow_from_directory(\n",
        "#     validation_data_dir,\n",
        "#     target_size=(224, 224),\n",
        "#     batch_size=32,\n",
        "#     class_mode='categorical'\n",
        "# )\n",
        "\n",
        "# Step 3: Build the VGG16 model\n",
        "model = models.Sequential()\n",
        "model.add(layers.Conv2D(64, (3, 3), activation='relu', input_shape=(224, 224, 3)))\n",
        "model.add(layers.Conv2D(64, (3, 3), activation='relu'))\n",
        "model.add(layers.MaxPooling2D((2, 2)))\n",
        "\n",
        "model.add(layers.Conv2D(128, (3, 3), activation='relu'))\n",
        "model.add(layers.Conv2D(128, (3, 3), activation='relu'))\n",
        "model.add(layers.MaxPooling2D((2, 2)))\n",
        "\n",
        "model.add(layers.Conv2D(256, (3, 3), activation='relu'))\n",
        "model.add(layers.Conv2D(256, (3, 3), activation='relu'))\n",
        "model.add(layers.Conv2D(256, (3, 3), activation='relu'))\n",
        "model.add(layers.MaxPooling2D((2, 2)))\n",
        "\n",
        "model.add(layers.Flatten())\n",
        "model.add(layers.Dense(256, activation='relu'))\n",
        "model.add(layers.Dropout(0.5))\n",
        "model.add(layers.Dense(3, activation='softmax'))\n",
        "\n",
        "# Step 4: Compile the model\n",
        "model.compile(optimizer=Adam(lr=0.0001), loss='categorical_crossentropy', metrics=['accuracy'])\n",
        "\n",
        "# Step 5: Train the model\n",
        "history = model.fit(\n",
        "    train_generator,\n",
        "    steps_per_epoch=train_generator.samples // train_generator.batch_size,\n",
        "    epochs=10,\n",
        "    # validation_data=validation_generator,\n",
        "    # validation_steps=validation_generator.samples // validation_generator.batch_size\n",
        ")\n",
        "\n",
        "# Step 6: Evaluate the model on the test set\n",
        "test_generator = test_datagen.flow_from_directory(\n",
        "    test_data_dir,\n",
        "    target_size=(224, 224),\n",
        "    batch_size=32,\n",
        "    class_mode='categorical'\n",
        ")\n",
        "\n",
        "eval_result = model.evaluate(test_generator)\n",
        "print(\"Test Loss:\", eval_result[0])\n",
        "print(\"Test Accuracy:\", eval_result[1])\n"
      ],
      "metadata": {
        "colab": {
          "base_uri": "https://localhost:8080/"
        },
        "id": "ZelhmDOs5Tm5",
        "outputId": "478b88e6-489f-4e3d-a8cd-f251d067c5b7"
      },
      "execution_count": 2,
      "outputs": [
        {
          "output_type": "stream",
          "name": "stdout",
          "text": [
            "Found 57 images belonging to 3 classes.\n"
          ]
        },
        {
          "output_type": "stream",
          "name": "stderr",
          "text": [
            "WARNING:absl:`lr` is deprecated in Keras optimizer, please use `learning_rate` or use the legacy optimizer, e.g.,tf.keras.optimizers.legacy.Adam.\n"
          ]
        },
        {
          "output_type": "stream",
          "name": "stdout",
          "text": [
            "Epoch 1/10\n",
            "1/1 [==============================] - 38s 38s/step - loss: 1.1137 - accuracy: 0.2188\n",
            "Epoch 2/10\n",
            "1/1 [==============================] - 35s 35s/step - loss: 7.6704 - accuracy: 0.6400\n",
            "Epoch 3/10\n",
            "1/1 [==============================] - 32s 32s/step - loss: 1.1425 - accuracy: 0.3600\n",
            "Epoch 4/10\n",
            "1/1 [==============================] - 27s 27s/step - loss: 1.0839 - accuracy: 0.4000\n",
            "Epoch 5/10\n",
            "1/1 [==============================] - 36s 36s/step - loss: 1.0198 - accuracy: 0.5625\n",
            "Epoch 6/10\n",
            "1/1 [==============================] - 29s 29s/step - loss: 1.0064 - accuracy: 0.6800\n",
            "Epoch 7/10\n",
            "1/1 [==============================] - 35s 35s/step - loss: 0.9633 - accuracy: 0.5938\n",
            "Epoch 8/10\n",
            "1/1 [==============================] - 35s 35s/step - loss: 0.7184 - accuracy: 0.7500\n",
            "Epoch 9/10\n",
            "1/1 [==============================] - 36s 36s/step - loss: 2.0254 - accuracy: 0.5312\n",
            "Epoch 10/10\n",
            "1/1 [==============================] - 28s 28s/step - loss: 0.7744 - accuracy: 0.7200\n",
            "Found 57 images belonging to 3 classes.\n",
            "2/2 [==============================] - 18s 9s/step - loss: 0.9635 - accuracy: 0.5965\n",
            "Test Loss: 0.9635369777679443\n",
            "Test Accuracy: 0.5964912176132202\n"
          ]
        }
      ]
    },
    {
      "cell_type": "code",
      "source": [],
      "metadata": {
        "id": "b8uV-_oL5TqU"
      },
      "execution_count": null,
      "outputs": []
    }
  ]
}