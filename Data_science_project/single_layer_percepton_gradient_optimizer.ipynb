{
  "nbformat": 4,
  "nbformat_minor": 0,
  "metadata": {
    "colab": {
      "provenance": [],
      "authorship_tag": "ABX9TyMk39RHgdYiYz7Aqd/h5W3w",
      "include_colab_link": true
    },
    "kernelspec": {
      "name": "python3",
      "display_name": "Python 3"
    },
    "language_info": {
      "name": "python"
    }
  },
  "cells": [
    {
      "cell_type": "markdown",
      "metadata": {
        "id": "view-in-github",
        "colab_type": "text"
      },
      "source": [
        "<a href=\"https://colab.research.google.com/github/gulamkibria775/Data_science_project/blob/main/Data_science_project/single_layer_percepton_gradient_optimizer.ipynb\" target=\"_parent\"><img src=\"https://colab.research.google.com/assets/colab-badge.svg\" alt=\"Open In Colab\"/></a>"
      ]
    },
    {
      "cell_type": "code",
      "source": [
        "import tensorflow as tf\n",
        "\n",
        "tf.compat.v1.disable_eager_execution()\n",
        "\n",
        "w=tf.Variable([.2])  # initial weight\n",
        "b=tf.Variable([-.2]) # initial bias\n",
        "\n",
        "x= tf.compat.v1.placeholder(tf.float32)  # input\n",
        "y= tf.compat.v1.placeholder(tf.float32)  # actual output\n",
        "\n",
        "linear_model=w*x + b    #calculating predicted y"
      ],
      "metadata": {
        "id": "_D4FqFq0GMQy"
      },
      "execution_count": 21,
      "outputs": []
    },
    {
      "cell_type": "code",
      "source": [
        "init =tf.compat.v1.global_variables_initializer()  # initalizing variables\n",
        "\n",
        "\n",
        "s= tf.compat.v1.Session() # setting up session for computation\n",
        "\n",
        "s.run(init)\n",
        "print(s.run(w))\n",
        "print(s.run(b))"
      ],
      "metadata": {
        "colab": {
          "base_uri": "https://localhost:8080/"
        },
        "id": "gsJwTHLsGbSA",
        "outputId": "08f6dfca-0eb1-4721-a5ef-cafc0bb1c50c"
      },
      "execution_count": 22,
      "outputs": [
        {
          "output_type": "stream",
          "name": "stdout",
          "text": [
            "[0.2]\n",
            "[-0.2]\n"
          ]
        }
      ]
    },
    {
      "cell_type": "markdown",
      "source": [
        "Lets calculate the error after 1st epoch\n"
      ],
      "metadata": {
        "id": "Yyw8lh4FGiIN"
      }
    },
    {
      "cell_type": "code",
      "source": [
        "square_details=tf.square(linear_model-y)\n",
        "loss=tf.reduce_sum(square_details)\n",
        "print(\"loss or error is:\")\n",
        "print(s.run(loss, {x:[1,2,3,4], y:[0,-1,-2,-3]}))"
      ],
      "metadata": {
        "colab": {
          "base_uri": "https://localhost:8080/"
        },
        "id": "ATTPtHITGpFw",
        "outputId": "b122c378-0ef0-420c-a98f-b7ace960bb05"
      },
      "execution_count": 25,
      "outputs": [
        {
          "output_type": "stream",
          "name": "stdout",
          "text": [
            "loss or error is:\n",
            "20.16\n"
          ]
        }
      ]
    },
    {
      "cell_type": "markdown",
      "source": [
        "error is 20.16 . So lets update the weights and check error again"
      ],
      "metadata": {
        "id": "S3q0rrrBHUU_"
      }
    },
    {
      "cell_type": "code",
      "source": [
        "# now we want to reduce the rmse so we will use gradient descent optimizer\n",
        "\n",
        "optimizer =  tf.compat.v1.train.GradientDescentOptimizer(0.01) # 0.01 is learning rate\n",
        "train = optimizer.minimize(loss)\n",
        "s.run(init)\n",
        "for i in range(1000):  # 1000 is training epoch\n",
        " s.run(train, {x:[1,2,3,4,],y:[0,-1,-2,-3]})"
      ],
      "metadata": {
        "id": "dusuUHB-HVuA"
      },
      "execution_count": 26,
      "outputs": []
    },
    {
      "cell_type": "code",
      "source": [
        "print(s.run([w,b])) # we will get values for weight and bias"
      ],
      "metadata": {
        "colab": {
          "base_uri": "https://localhost:8080/"
        },
        "id": "g9LiQS05Hp8U",
        "outputId": "f54ea934-bf45-4c6e-97b0-6150095fbf70"
      },
      "execution_count": 27,
      "outputs": [
        {
          "output_type": "stream",
          "name": "stdout",
          "text": [
            "[array([-0.99999714], dtype=float32), array([0.99999166], dtype=float32)]\n"
          ]
        }
      ]
    },
    {
      "cell_type": "code",
      "source": [
        "s.run(linear_model,{x:[1,2,3,4],y:[0,-1,-2,-3]})"
      ],
      "metadata": {
        "colab": {
          "base_uri": "https://localhost:8080/"
        },
        "id": "wRvzdOZnHrW9",
        "outputId": "9f8166fe-4c18-4cdc-caef-78a3046f13dd"
      },
      "execution_count": 28,
      "outputs": [
        {
          "output_type": "execute_result",
          "data": {
            "text/plain": [
              "array([-5.4836273e-06, -1.0000026e+00, -1.9999998e+00, -2.9999969e+00],\n",
              "      dtype=float32)"
            ]
          },
          "metadata": {},
          "execution_count": 28
        }
      ]
    },
    {
      "cell_type": "code",
      "source": [
        "s.run(loss,{x:[1,2,3,4],y:[0,-1,-2,-3]})"
      ],
      "metadata": {
        "colab": {
          "base_uri": "https://localhost:8080/"
        },
        "id": "W5c4huepH48y",
        "outputId": "9734f0d1-c24f-4f1c-cc04-76e13e0b61a5"
      },
      "execution_count": 29,
      "outputs": [
        {
          "output_type": "execute_result",
          "data": {
            "text/plain": [
              "4.6611603e-11"
            ]
          },
          "metadata": {},
          "execution_count": 29
        }
      ]
    },
    {
      "cell_type": "code",
      "source": [],
      "metadata": {
        "id": "AQih5x_0IFlj"
      },
      "execution_count": null,
      "outputs": []
    }
  ]
}