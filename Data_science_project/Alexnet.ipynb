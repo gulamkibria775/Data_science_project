{
  "cells": [
    {
      "cell_type": "markdown",
      "metadata": {
        "id": "view-in-github",
        "colab_type": "text"
      },
      "source": [
        "<a href=\"https://colab.research.google.com/github/gulamkibria775/Data_science_project/blob/main/Data_science_project/Alexnet.ipynb\" target=\"_parent\"><img src=\"https://colab.research.google.com/assets/colab-badge.svg\" alt=\"Open In Colab\"/></a>"
      ]
    },
    {
      "cell_type": "code",
      "execution_count": 1,
      "metadata": {
        "colab": {
          "base_uri": "https://localhost:8080/"
        },
        "id": "3mE9CiLqVSVS",
        "outputId": "111e4ef2-6b9d-4807-d35f-d2cc0b1f3bb8"
      },
      "outputs": [
        {
          "output_type": "stream",
          "name": "stdout",
          "text": [
            "Mounted at /content/driver\n"
          ]
        }
      ],
      "source": [
        "from google.colab import drive\n",
        "drive.mount('/content/driver')"
      ]
    },
    {
      "cell_type": "code",
      "execution_count": 2,
      "metadata": {
        "colab": {
          "base_uri": "https://localhost:8080/"
        },
        "id": "BqJ8dHbEVyzm",
        "outputId": "128d4f7f-735b-4a66-f5d5-60ef5bd9a85a"
      },
      "outputs": [
        {
          "output_type": "stream",
          "name": "stdout",
          "text": [
            "['bed_room', 'living_room', 'dining_room']\n"
          ]
        }
      ],
      "source": [
        "import pandas as pd\n",
        "import numpy as np\n",
        "import matplotlib.pyplot as plt\n",
        "import os\n",
        "data_path=os.listdir(\"/content/driver/MyDrive/All_data_file/rooms\")\n",
        "room_types=os.listdir(\"/content/driver/MyDrive/All_data_file/rooms\")\n",
        "print(room_types)"
      ]
    },
    {
      "cell_type": "code",
      "execution_count": null,
      "metadata": {
        "id": "2asmS5RVWzMp"
      },
      "outputs": [],
      "source": [
        "rooms=[]\n",
        "for item in room_types:\n",
        "  all_rooms=os.listdir('/content/driver/MyDrive/All_data_file/rooms'+'/'+item)\n",
        "  for room in all_rooms:\n",
        "    rooms.append((item,str('/content/driver/MyDrive/All_data_file/rooms'+'/'+item)+'/'+room))\n",
        "    print(rooms[:1])"
      ]
    },
    {
      "cell_type": "code",
      "execution_count": null,
      "metadata": {
        "id": "p1Ighyk-X303"
      },
      "outputs": [],
      "source": [
        "rooms\n"
      ]
    },
    {
      "cell_type": "code",
      "execution_count": 4,
      "metadata": {
        "colab": {
          "base_uri": "https://localhost:8080/",
          "height": 206
        },
        "id": "v8a7L4_MYcWT",
        "outputId": "df4aed3c-2390-4557-a4ed-1d4278215897"
      },
      "outputs": [
        {
          "output_type": "execute_result",
          "data": {
            "text/plain": [
              "  room type                                              image\n",
              "0  bed_room  /content/driver/MyDrive/All_data_file/rooms/be...\n",
              "1  bed_room  /content/driver/MyDrive/All_data_file/rooms/be...\n",
              "2  bed_room  /content/driver/MyDrive/All_data_file/rooms/be...\n",
              "3  bed_room  /content/driver/MyDrive/All_data_file/rooms/be...\n",
              "4  bed_room  /content/driver/MyDrive/All_data_file/rooms/be..."
            ],
            "text/html": [
              "\n",
              "  <div id=\"df-3c43d663-4c68-47bc-ab2c-40e4938f1f63\" class=\"colab-df-container\">\n",
              "    <div>\n",
              "<style scoped>\n",
              "    .dataframe tbody tr th:only-of-type {\n",
              "        vertical-align: middle;\n",
              "    }\n",
              "\n",
              "    .dataframe tbody tr th {\n",
              "        vertical-align: top;\n",
              "    }\n",
              "\n",
              "    .dataframe thead th {\n",
              "        text-align: right;\n",
              "    }\n",
              "</style>\n",
              "<table border=\"1\" class=\"dataframe\">\n",
              "  <thead>\n",
              "    <tr style=\"text-align: right;\">\n",
              "      <th></th>\n",
              "      <th>room type</th>\n",
              "      <th>image</th>\n",
              "    </tr>\n",
              "  </thead>\n",
              "  <tbody>\n",
              "    <tr>\n",
              "      <th>0</th>\n",
              "      <td>bed_room</td>\n",
              "      <td>/content/driver/MyDrive/All_data_file/rooms/be...</td>\n",
              "    </tr>\n",
              "    <tr>\n",
              "      <th>1</th>\n",
              "      <td>bed_room</td>\n",
              "      <td>/content/driver/MyDrive/All_data_file/rooms/be...</td>\n",
              "    </tr>\n",
              "    <tr>\n",
              "      <th>2</th>\n",
              "      <td>bed_room</td>\n",
              "      <td>/content/driver/MyDrive/All_data_file/rooms/be...</td>\n",
              "    </tr>\n",
              "    <tr>\n",
              "      <th>3</th>\n",
              "      <td>bed_room</td>\n",
              "      <td>/content/driver/MyDrive/All_data_file/rooms/be...</td>\n",
              "    </tr>\n",
              "    <tr>\n",
              "      <th>4</th>\n",
              "      <td>bed_room</td>\n",
              "      <td>/content/driver/MyDrive/All_data_file/rooms/be...</td>\n",
              "    </tr>\n",
              "  </tbody>\n",
              "</table>\n",
              "</div>\n",
              "    <div class=\"colab-df-buttons\">\n",
              "\n",
              "  <div class=\"colab-df-container\">\n",
              "    <button class=\"colab-df-convert\" onclick=\"convertToInteractive('df-3c43d663-4c68-47bc-ab2c-40e4938f1f63')\"\n",
              "            title=\"Convert this dataframe to an interactive table.\"\n",
              "            style=\"display:none;\">\n",
              "\n",
              "  <svg xmlns=\"http://www.w3.org/2000/svg\" height=\"24px\" viewBox=\"0 -960 960 960\">\n",
              "    <path d=\"M120-120v-720h720v720H120Zm60-500h600v-160H180v160Zm220 220h160v-160H400v160Zm0 220h160v-160H400v160ZM180-400h160v-160H180v160Zm440 0h160v-160H620v160ZM180-180h160v-160H180v160Zm440 0h160v-160H620v160Z\"/>\n",
              "  </svg>\n",
              "    </button>\n",
              "\n",
              "  <style>\n",
              "    .colab-df-container {\n",
              "      display:flex;\n",
              "      gap: 12px;\n",
              "    }\n",
              "\n",
              "    .colab-df-convert {\n",
              "      background-color: #E8F0FE;\n",
              "      border: none;\n",
              "      border-radius: 50%;\n",
              "      cursor: pointer;\n",
              "      display: none;\n",
              "      fill: #1967D2;\n",
              "      height: 32px;\n",
              "      padding: 0 0 0 0;\n",
              "      width: 32px;\n",
              "    }\n",
              "\n",
              "    .colab-df-convert:hover {\n",
              "      background-color: #E2EBFA;\n",
              "      box-shadow: 0px 1px 2px rgba(60, 64, 67, 0.3), 0px 1px 3px 1px rgba(60, 64, 67, 0.15);\n",
              "      fill: #174EA6;\n",
              "    }\n",
              "\n",
              "    .colab-df-buttons div {\n",
              "      margin-bottom: 4px;\n",
              "    }\n",
              "\n",
              "    [theme=dark] .colab-df-convert {\n",
              "      background-color: #3B4455;\n",
              "      fill: #D2E3FC;\n",
              "    }\n",
              "\n",
              "    [theme=dark] .colab-df-convert:hover {\n",
              "      background-color: #434B5C;\n",
              "      box-shadow: 0px 1px 3px 1px rgba(0, 0, 0, 0.15);\n",
              "      filter: drop-shadow(0px 1px 2px rgba(0, 0, 0, 0.3));\n",
              "      fill: #FFFFFF;\n",
              "    }\n",
              "  </style>\n",
              "\n",
              "    <script>\n",
              "      const buttonEl =\n",
              "        document.querySelector('#df-3c43d663-4c68-47bc-ab2c-40e4938f1f63 button.colab-df-convert');\n",
              "      buttonEl.style.display =\n",
              "        google.colab.kernel.accessAllowed ? 'block' : 'none';\n",
              "\n",
              "      async function convertToInteractive(key) {\n",
              "        const element = document.querySelector('#df-3c43d663-4c68-47bc-ab2c-40e4938f1f63');\n",
              "        const dataTable =\n",
              "          await google.colab.kernel.invokeFunction('convertToInteractive',\n",
              "                                                    [key], {});\n",
              "        if (!dataTable) return;\n",
              "\n",
              "        const docLinkHtml = 'Like what you see? Visit the ' +\n",
              "          '<a target=\"_blank\" href=https://colab.research.google.com/notebooks/data_table.ipynb>data table notebook</a>'\n",
              "          + ' to learn more about interactive tables.';\n",
              "        element.innerHTML = '';\n",
              "        dataTable['output_type'] = 'display_data';\n",
              "        await google.colab.output.renderOutput(dataTable, element);\n",
              "        const docLink = document.createElement('div');\n",
              "        docLink.innerHTML = docLinkHtml;\n",
              "        element.appendChild(docLink);\n",
              "      }\n",
              "    </script>\n",
              "  </div>\n",
              "\n",
              "\n",
              "<div id=\"df-34c76a69-5d6e-4d70-986c-61a7900cad61\">\n",
              "  <button class=\"colab-df-quickchart\" onclick=\"quickchart('df-34c76a69-5d6e-4d70-986c-61a7900cad61')\"\n",
              "            title=\"Suggest charts\"\n",
              "            style=\"display:none;\">\n",
              "\n",
              "<svg xmlns=\"http://www.w3.org/2000/svg\" height=\"24px\"viewBox=\"0 0 24 24\"\n",
              "     width=\"24px\">\n",
              "    <g>\n",
              "        <path d=\"M19 3H5c-1.1 0-2 .9-2 2v14c0 1.1.9 2 2 2h14c1.1 0 2-.9 2-2V5c0-1.1-.9-2-2-2zM9 17H7v-7h2v7zm4 0h-2V7h2v10zm4 0h-2v-4h2v4z\"/>\n",
              "    </g>\n",
              "</svg>\n",
              "  </button>\n",
              "\n",
              "<style>\n",
              "  .colab-df-quickchart {\n",
              "      --bg-color: #E8F0FE;\n",
              "      --fill-color: #1967D2;\n",
              "      --hover-bg-color: #E2EBFA;\n",
              "      --hover-fill-color: #174EA6;\n",
              "      --disabled-fill-color: #AAA;\n",
              "      --disabled-bg-color: #DDD;\n",
              "  }\n",
              "\n",
              "  [theme=dark] .colab-df-quickchart {\n",
              "      --bg-color: #3B4455;\n",
              "      --fill-color: #D2E3FC;\n",
              "      --hover-bg-color: #434B5C;\n",
              "      --hover-fill-color: #FFFFFF;\n",
              "      --disabled-bg-color: #3B4455;\n",
              "      --disabled-fill-color: #666;\n",
              "  }\n",
              "\n",
              "  .colab-df-quickchart {\n",
              "    background-color: var(--bg-color);\n",
              "    border: none;\n",
              "    border-radius: 50%;\n",
              "    cursor: pointer;\n",
              "    display: none;\n",
              "    fill: var(--fill-color);\n",
              "    height: 32px;\n",
              "    padding: 0;\n",
              "    width: 32px;\n",
              "  }\n",
              "\n",
              "  .colab-df-quickchart:hover {\n",
              "    background-color: var(--hover-bg-color);\n",
              "    box-shadow: 0 1px 2px rgba(60, 64, 67, 0.3), 0 1px 3px 1px rgba(60, 64, 67, 0.15);\n",
              "    fill: var(--button-hover-fill-color);\n",
              "  }\n",
              "\n",
              "  .colab-df-quickchart-complete:disabled,\n",
              "  .colab-df-quickchart-complete:disabled:hover {\n",
              "    background-color: var(--disabled-bg-color);\n",
              "    fill: var(--disabled-fill-color);\n",
              "    box-shadow: none;\n",
              "  }\n",
              "\n",
              "  .colab-df-spinner {\n",
              "    border: 2px solid var(--fill-color);\n",
              "    border-color: transparent;\n",
              "    border-bottom-color: var(--fill-color);\n",
              "    animation:\n",
              "      spin 1s steps(1) infinite;\n",
              "  }\n",
              "\n",
              "  @keyframes spin {\n",
              "    0% {\n",
              "      border-color: transparent;\n",
              "      border-bottom-color: var(--fill-color);\n",
              "      border-left-color: var(--fill-color);\n",
              "    }\n",
              "    20% {\n",
              "      border-color: transparent;\n",
              "      border-left-color: var(--fill-color);\n",
              "      border-top-color: var(--fill-color);\n",
              "    }\n",
              "    30% {\n",
              "      border-color: transparent;\n",
              "      border-left-color: var(--fill-color);\n",
              "      border-top-color: var(--fill-color);\n",
              "      border-right-color: var(--fill-color);\n",
              "    }\n",
              "    40% {\n",
              "      border-color: transparent;\n",
              "      border-right-color: var(--fill-color);\n",
              "      border-top-color: var(--fill-color);\n",
              "    }\n",
              "    60% {\n",
              "      border-color: transparent;\n",
              "      border-right-color: var(--fill-color);\n",
              "    }\n",
              "    80% {\n",
              "      border-color: transparent;\n",
              "      border-right-color: var(--fill-color);\n",
              "      border-bottom-color: var(--fill-color);\n",
              "    }\n",
              "    90% {\n",
              "      border-color: transparent;\n",
              "      border-bottom-color: var(--fill-color);\n",
              "    }\n",
              "  }\n",
              "</style>\n",
              "\n",
              "  <script>\n",
              "    async function quickchart(key) {\n",
              "      const quickchartButtonEl =\n",
              "        document.querySelector('#' + key + ' button');\n",
              "      quickchartButtonEl.disabled = true;  // To prevent multiple clicks.\n",
              "      quickchartButtonEl.classList.add('colab-df-spinner');\n",
              "      try {\n",
              "        const charts = await google.colab.kernel.invokeFunction(\n",
              "            'suggestCharts', [key], {});\n",
              "      } catch (error) {\n",
              "        console.error('Error during call to suggestCharts:', error);\n",
              "      }\n",
              "      quickchartButtonEl.classList.remove('colab-df-spinner');\n",
              "      quickchartButtonEl.classList.add('colab-df-quickchart-complete');\n",
              "    }\n",
              "    (() => {\n",
              "      let quickchartButtonEl =\n",
              "        document.querySelector('#df-34c76a69-5d6e-4d70-986c-61a7900cad61 button');\n",
              "      quickchartButtonEl.style.display =\n",
              "        google.colab.kernel.accessAllowed ? 'block' : 'none';\n",
              "    })();\n",
              "  </script>\n",
              "</div>\n",
              "\n",
              "    </div>\n",
              "  </div>\n"
            ]
          },
          "metadata": {},
          "execution_count": 4
        }
      ],
      "source": [
        "df=pd.DataFrame(data=rooms,columns=[\"room type\",\"image\"])\n",
        "df.head()"
      ]
    },
    {
      "cell_type": "code",
      "execution_count": 61,
      "metadata": {
        "colab": {
          "base_uri": "https://localhost:8080/"
        },
        "id": "xrDgwCUOY9Ul",
        "outputId": "31f02d6d-a602-4655-903b-58e278b60174"
      },
      "outputs": [
        {
          "output_type": "execute_result",
          "data": {
            "text/plain": [
              "living_room    34\n",
              "bed_room       12\n",
              "dining_room    11\n",
              "Name: room type, dtype: int64"
            ]
          },
          "metadata": {},
          "execution_count": 61
        }
      ],
      "source": [
        "room_count=df['room type'].value_counts()\n",
        "room_count"
      ]
    },
    {
      "cell_type": "code",
      "execution_count": 49,
      "metadata": {
        "id": "oZ9MAZY0ZcOo"
      },
      "outputs": [],
      "source": [
        "import cv2\n",
        "path=\"/content/driver/MyDrive/All_data_file/rooms\"\n",
        "im_size=227\n",
        "images=[]\n",
        "labels=[]\n",
        "for i in room_types:\n",
        "  data_path=path +'/'+str(i)\n",
        "  filenames=[i for i in os.listdir(data_path)]\n",
        "  for f in filenames:\n",
        "        img = cv2.imread(data_path + '/' + f)  # reading that image as array\n",
        "        #print(img)  # will get the image as an array\n",
        "        img = cv2.resize(img, (im_size, im_size))\n",
        "        images.append(img)\n",
        "        labels.append(i)\n"
      ]
    },
    {
      "cell_type": "code",
      "source": [
        "images = np.array(images)\n",
        "\n",
        "images.shape"
      ],
      "metadata": {
        "colab": {
          "base_uri": "https://localhost:8080/"
        },
        "id": "ST9FfldqlNh_",
        "outputId": "03810f4b-088b-4724-9b4a-d25751e85ef0"
      },
      "execution_count": 50,
      "outputs": [
        {
          "output_type": "execute_result",
          "data": {
            "text/plain": [
              "(57, 227, 227, 3)"
            ]
          },
          "metadata": {},
          "execution_count": 50
        }
      ]
    },
    {
      "cell_type": "code",
      "source": [
        "labels"
      ],
      "metadata": {
        "colab": {
          "base_uri": "https://localhost:8080/"
        },
        "id": "GvuWQGFiDM4k",
        "outputId": "588d428f-5915-4f75-afe0-6f5e849b855b"
      },
      "execution_count": 51,
      "outputs": [
        {
          "output_type": "execute_result",
          "data": {
            "text/plain": [
              "['bed_room',\n",
              " 'bed_room',\n",
              " 'bed_room',\n",
              " 'bed_room',\n",
              " 'bed_room',\n",
              " 'bed_room',\n",
              " 'bed_room',\n",
              " 'bed_room',\n",
              " 'bed_room',\n",
              " 'bed_room',\n",
              " 'bed_room',\n",
              " 'bed_room',\n",
              " 'living_room',\n",
              " 'living_room',\n",
              " 'living_room',\n",
              " 'living_room',\n",
              " 'living_room',\n",
              " 'living_room',\n",
              " 'living_room',\n",
              " 'living_room',\n",
              " 'living_room',\n",
              " 'living_room',\n",
              " 'living_room',\n",
              " 'living_room',\n",
              " 'living_room',\n",
              " 'living_room',\n",
              " 'living_room',\n",
              " 'living_room',\n",
              " 'living_room',\n",
              " 'living_room',\n",
              " 'living_room',\n",
              " 'living_room',\n",
              " 'living_room',\n",
              " 'living_room',\n",
              " 'living_room',\n",
              " 'living_room',\n",
              " 'living_room',\n",
              " 'living_room',\n",
              " 'living_room',\n",
              " 'living_room',\n",
              " 'living_room',\n",
              " 'living_room',\n",
              " 'living_room',\n",
              " 'living_room',\n",
              " 'living_room',\n",
              " 'living_room',\n",
              " 'dining_room',\n",
              " 'dining_room',\n",
              " 'dining_room',\n",
              " 'dining_room',\n",
              " 'dining_room',\n",
              " 'dining_room',\n",
              " 'dining_room',\n",
              " 'dining_room',\n",
              " 'dining_room',\n",
              " 'dining_room',\n",
              " 'dining_room']"
            ]
          },
          "metadata": {},
          "execution_count": 51
        }
      ]
    },
    {
      "cell_type": "code",
      "source": [
        "images\n"
      ],
      "metadata": {
        "id": "jX6boP7WDSa5"
      },
      "execution_count": null,
      "outputs": []
    },
    {
      "cell_type": "code",
      "source": [
        "images = images.astype('float32') / 255.0"
      ],
      "metadata": {
        "id": "VDfwhvoYlRmm"
      },
      "execution_count": 52,
      "outputs": []
    },
    {
      "cell_type": "code",
      "source": [
        "images.shape"
      ],
      "metadata": {
        "colab": {
          "base_uri": "https://localhost:8080/"
        },
        "id": "MnBktA-W9Wce",
        "outputId": "01a23fe3-8f28-4db6-a507-804d2be6923b"
      },
      "execution_count": 53,
      "outputs": [
        {
          "output_type": "execute_result",
          "data": {
            "text/plain": [
              "(57, 227, 227, 3)"
            ]
          },
          "metadata": {},
          "execution_count": 53
        }
      ]
    },
    {
      "cell_type": "code",
      "source": [
        "from sklearn.preprocessing import LabelEncoder , OneHotEncoder\n",
        "\n",
        "\n",
        "y=df['room type'].values\n",
        "print(y[:5])"
      ],
      "metadata": {
        "colab": {
          "base_uri": "https://localhost:8080/"
        },
        "id": "LtECOAFblRpM",
        "outputId": "458b7639-2cfa-4b09-99fa-dd47252af09d"
      },
      "execution_count": 54,
      "outputs": [
        {
          "output_type": "stream",
          "name": "stdout",
          "text": [
            "['bed_room' 'bed_room' 'bed_room' 'bed_room' 'bed_room']\n"
          ]
        }
      ]
    },
    {
      "cell_type": "code",
      "source": [
        "y_labelencoder = LabelEncoder ()\n",
        "y = y_labelencoder.fit_transform (y)\n",
        "print (y)\n",
        "\n"
      ],
      "metadata": {
        "colab": {
          "base_uri": "https://localhost:8080/"
        },
        "id": "U5zhd3ZKlRsu",
        "outputId": "d662c092-c3e4-4e1f-87f4-3f7d8ce8584e"
      },
      "execution_count": 55,
      "outputs": [
        {
          "output_type": "stream",
          "name": "stdout",
          "text": [
            "[0 0 0 0 0 0 0 0 0 0 0 0 2 2 2 2 2 2 2 2 2 2 2 2 2 2 2 2 2 2 2 2 2 2 2 2 2\n",
            " 2 2 2 2 2 2 2 2 2 1 1 1 1 1 1 1 1 1 1 1]\n"
          ]
        }
      ]
    },
    {
      "cell_type": "code",
      "execution_count": 56,
      "metadata": {
        "id": "zzz9biiTZ3oi",
        "colab": {
          "base_uri": "https://localhost:8080/"
        },
        "outputId": "c15eb847-cc3d-4368-efb1-b5645a6978b1"
      },
      "outputs": [
        {
          "output_type": "execute_result",
          "data": {
            "text/plain": [
              "(57, 3)"
            ]
          },
          "metadata": {},
          "execution_count": 56
        }
      ],
      "source": [
        "y=y.reshape(-1,1)\n",
        "onehotencoder = OneHotEncoder()  #Converted  scalar output into vector output where the correct class will be 1 and other will be 0\n",
        "Y= onehotencoder.fit_transform(y)\n",
        "Y.shape\n",
        "\n",
        "# from sklearn.compose import ColumnTransformer\n",
        "# ct = ColumnTransformer([(\"Name_Of_Your_Step\", OneHotEncoder(),[0])], remainder=\"passthrough\") # The last arg ([0]) is the list of columns you want to transform in this step\n",
        "# y=ct.fit_transform(y)\n",
        "# y.shape\n",
        "Y.shape\n"
      ]
    },
    {
      "cell_type": "code",
      "source": [
        "Y.shape\n"
      ],
      "metadata": {
        "colab": {
          "base_uri": "https://localhost:8080/"
        },
        "id": "hNfLwSX5-i8n",
        "outputId": "229429ae-1710-4465-c678-96fac9a67ee6"
      },
      "execution_count": 19,
      "outputs": [
        {
          "output_type": "execute_result",
          "data": {
            "text/plain": [
              "(57, 3)"
            ]
          },
          "metadata": {},
          "execution_count": 19
        }
      ]
    },
    {
      "cell_type": "code",
      "source": [
        "Y.shape"
      ],
      "metadata": {
        "colab": {
          "base_uri": "https://localhost:8080/"
        },
        "id": "Pu65pVaC-Wpo",
        "outputId": "d1f64df5-b777-4aa9-f634-1aa7f8e617c7"
      },
      "execution_count": 20,
      "outputs": [
        {
          "output_type": "execute_result",
          "data": {
            "text/plain": [
              "(57, 3)"
            ]
          },
          "metadata": {},
          "execution_count": 20
        }
      ]
    },
    {
      "cell_type": "code",
      "source": [
        "from sklearn.utils import shuffle\n",
        "from sklearn.model_selection import train_test_split\n",
        "\n",
        "\n",
        "images, Y = shuffle(images, Y, random_state=1)\n",
        "\n",
        "train_x, test_x, train_y, test_y = train_test_split(images, Y, test_size=0.05, random_state=415)\n",
        "\n",
        "#inpect the shape of the training and testing.\n",
        "print(train_x.shape)\n",
        "print(train_y.shape)\n",
        "print(test_x.shape)\n",
        "print(test_y.shape)"
      ],
      "metadata": {
        "colab": {
          "base_uri": "https://localhost:8080/"
        },
        "id": "fJWXRBvFoHq0",
        "outputId": "e7fb39bb-dd82-4ea5-b78f-c87023068d2b"
      },
      "execution_count": 57,
      "outputs": [
        {
          "output_type": "stream",
          "name": "stdout",
          "text": [
            "(54, 227, 227, 3)\n",
            "(54, 3)\n",
            "(3, 227, 227, 3)\n",
            "(3, 3)\n"
          ]
        }
      ]
    },
    {
      "cell_type": "code",
      "source": [
        "Y.shape"
      ],
      "metadata": {
        "colab": {
          "base_uri": "https://localhost:8080/"
        },
        "id": "czBm6es9-P3u",
        "outputId": "260cd516-8b51-48dd-8b0a-9d40c04599d7"
      },
      "execution_count": 22,
      "outputs": [
        {
          "output_type": "execute_result",
          "data": {
            "text/plain": [
              "(57, 3)"
            ]
          },
          "metadata": {},
          "execution_count": 22
        }
      ]
    },
    {
      "cell_type": "code",
      "source": [
        "import tensorflow as tf\n",
        "# Number of classes, one class for each of 5 flower.\n",
        "num_classes = 3\n",
        "\n",
        "# flattened imge\n",
        "n_input = 10800\n",
        "\n",
        "\n",
        "# architecture hyper-parameter\n",
        "learning_rate = 0.001\n",
        "training_iters = 10\n",
        "batch_size = 16\n",
        "display_step = 20"
      ],
      "metadata": {
        "id": "_ftxac3Do8Nk"
      },
      "execution_count": 59,
      "outputs": []
    },
    {
      "cell_type": "code",
      "source": [
        "img_size=60\n",
        "num_channels=3\n",
        "tf.compat.v1.disable_eager_execution()\n",
        "# import tensorflow.compat.v1 as tf\n",
        "#x = tf.placeholder(tf.float32, [None, n_input])\n",
        "x = tf.compat.v1.placeholder(tf.float32, shape=[None, 227,227,num_channels])  # None,60,60,3\n",
        "\n",
        "y_ = tf.compat.v1.placeholder(tf.float32, [None, num_classes]) # None,3\n",
        "\n",
        "\n",
        "\n",
        "print('Shape of placeholder',x.shape, y_.shape)"
      ],
      "metadata": {
        "colab": {
          "base_uri": "https://localhost:8080/"
        },
        "id": "WPIsrLVAppR3",
        "outputId": "e5778bdd-9f7b-4922-d580-4089ec8c4b1e"
      },
      "execution_count": 61,
      "outputs": [
        {
          "output_type": "stream",
          "name": "stdout",
          "text": [
            "Shape of placeholder (None, 227, 227, 3) (None, 3)\n"
          ]
        }
      ]
    },
    {
      "cell_type": "code",
      "source": [
        "num_classes=3\n",
        "weights = {\n",
        "    'w1': tf.Variable(tf.random.normal([11, 11, 3, 96]),name='w1'),  # 11*11*3   96 filters\n",
        "    'w2': tf.Variable(tf.random.normal([5, 5, 96, 256]),name='w2'), # 5*5*96  256 filters\n",
        "\n",
        "    'w3': tf.Variable(tf.random.normal([3, 3, 256, 384]),name='w3'),\n",
        "    'w4': tf.Variable(tf.random.normal([3, 3, 384, 384]),name='w4'),\n",
        "\n",
        "    'w5': tf.Variable(tf.random.normal([3, 3, 384, 256]),name='w5'),\n",
        "\n",
        "\n",
        "    'wfc1': tf.Variable(tf.random.normal([6 * 6 * 256, 4096]),name='wfc1'),\n",
        "    'wfc2': tf.Variable(tf.random.normal([4096, 4096]),name='wfc2'),\n",
        "\n",
        "    'wout': tf.Variable(tf.random.normal([4096, 3]),name='wout')\n",
        "}\n",
        "\n",
        "biases = {\n",
        "    'b1': tf.Variable(tf.random.normal([96]),name='b1'),\n",
        "    'b2': tf.Variable(tf.random.normal([256]),name='b2'),\n",
        "\n",
        "    'b3': tf.Variable(tf.random.normal([384]),name='b3'),\n",
        "    'b4': tf.Variable(tf.random.normal([384]),name='b4'),\n",
        "\n",
        "    'b5': tf.Variable(tf.random.normal([256]),name='b5'),\n",
        "\n",
        "    'bfc1': tf.Variable(tf.random.normal([4096]),name='bfc1'),  #4096\n",
        "    'bfc2': tf.Variable(tf.random.normal([4096]),name='bfc2'),  #4096\n",
        "    'bout': tf.Variable(tf.random.normal([3]),name='bout') # 2\n",
        "}"
      ],
      "metadata": {
        "id": "xThADUQiE_zs"
      },
      "execution_count": 73,
      "outputs": []
    },
    {
      "cell_type": "code",
      "source": [
        "def alex_net(x, weights, biases):\n",
        "  # reshape input to 227*227*3 size\n",
        " x = tf.reshape(x, shape=[-1, 227, 227, 3])\n",
        "\n",
        " print(\"###########################################################################\")\n",
        " print(\"size of x is\")\n",
        " print(x.shape)\n",
        "\n",
        "\n",
        "\n",
        " #conv1\n",
        " #kernel size=11*11, stride=4\n",
        "\n",
        " conv1_in = tf.nn.conv2d(x, weights['w1'], strides=[1, 4, 4, 1], padding=\"SAME\")\n",
        " conv1_in = tf.nn.bias_add(conv1_in,  biases['b1'])   # y= xw+b\n",
        " conv1 = tf.nn.relu(conv1_in)\n",
        " #maxpool1   #kernel size 3*3, stride 2\n",
        "\n",
        " maxpool1 = tf.nn.max_pool(conv1, ksize=[1, 3, 3, 1], strides=[1, 2, 2, 1], padding=\"VALID\")\n",
        " print(\"###########################################################################\")\n",
        " print(\"size after 1st conv layer) is \")\n",
        " print(maxpool1.shape)\n",
        "\n",
        "\n",
        " #conv2\n",
        " # kernel 5*5, channels 256, stride 1\n",
        " conv2_in = tf.nn.conv2d(maxpool1,weights['w2'], strides=[1, 1, 1, 1], padding=\"SAME\")\n",
        " conv2_in = tf.nn.bias_add(conv2_in,  biases['b2'])\n",
        " conv2 = tf.nn.relu(conv2_in)\n",
        " #maxpool2\n",
        " #kernel 3*3 stride 2\n",
        " maxpool2 = tf.nn.max_pool(conv2, ksize=[1, 3, 3, 1], strides=[1, 2, 2, 1], padding=\"VALID\")\n",
        " print(\"###########################################################################\")\n",
        " print(\"size after 2nd conv layer) is \")\n",
        " print(maxpool2.shape)\n",
        "\n",
        " #conv3\n",
        " #kernel size=3*3, channels=384, stride 1\n",
        " conv3_in = tf.nn.conv2d(maxpool2, weights['w3'],strides=[1, 1, 1, 1], padding=\"SAME\")\n",
        " conv3_in = tf.nn.bias_add(conv3_in,  biases['b3'])\n",
        " conv3 = tf.nn.relu(conv3_in)\n",
        " print(\"###########################################################################\")\n",
        " print(\"size after 3rd conv layer) is \")\n",
        " print(conv3.shape)\n",
        "\n",
        "\n",
        " #conv4\n",
        " # kernel=3*3,channels=384,stride=1\n",
        " conv4_in = tf.nn.conv2d(conv3, weights['w4'], strides=[1, 1, 1, 1], padding=\"SAME\")\n",
        " conv4_in = tf.nn.bias_add(conv4_in,  biases['b4'])\n",
        " conv4 = tf.nn.relu(conv4_in)\n",
        " print(\"###########################################################################\")\n",
        " print(\"size after 4th conv layer) is \")\n",
        " print(conv4.shape)\n",
        " #conv5\n",
        " # kernel 3*3, channels=256, stride 1\n",
        " conv5_in = tf.nn.conv2d(conv4, weights['w5'],strides=[1, 1, 1, 1], padding=\"SAME\")\n",
        " conv5_in = tf.nn.bias_add(conv5_in,  biases['b5'])\n",
        " conv5 = tf.nn.relu(conv5_in)\n",
        "\n",
        " #maxpool5  # kernel 3*3, stride 2\n",
        " maxpool5 = tf.nn.max_pool(conv5, ksize=[1, 3, 3, 1], strides=[1, 2, 2, 1], padding=\"VALID\")\n",
        "\n",
        " print(\"###########################################################################\")\n",
        " print(\"size after 5th conv layer) is \")\n",
        " print(conv5.shape)\n",
        " print(\"###########################################################################\")\n",
        " print(\"size after 5th conv layer pooling) is \")\n",
        " print(maxpool5.shape)\n",
        "\n",
        "\n",
        " fc6 = tf.reshape(maxpool5, [-1, weights['wfc1'].get_shape().as_list()[0]])\n",
        " print(\"###########################################################################\")\n",
        " print(\"size after reshaping the image ) is \")\n",
        " print(fc6.shape)\n",
        "\n",
        " fc6 = tf.add(tf.matmul(fc6, weights['wfc1']), biases['bfc1'])\n",
        " fc6 = tf.nn.relu(fc6)\n",
        "\n",
        " #fc7\n",
        " fc7 = tf.compat.v1.nn.relu_layer(fc6, weights['wfc2'], biases['bfc2'])\n",
        " print(\"###########################################################################\")\n",
        " print(\"size after 7th layer) is \")\n",
        " print(fc7.shape)\n",
        "\n",
        "\n",
        " fc8 = tf.add(tf.matmul(fc7, weights['wout']), biases['bout'])\n",
        " out = tf.nn.softmax(fc8)\n",
        "\n",
        " return out\n",
        "\n",
        ""
      ],
      "metadata": {
        "id": "baR-D2PFFWvS"
      },
      "execution_count": 74,
      "outputs": []
    },
    {
      "cell_type": "code",
      "source": [
        "model = alex_net(x, weights, biases)\n",
        "print(model)"
      ],
      "metadata": {
        "colab": {
          "base_uri": "https://localhost:8080/"
        },
        "id": "DDsRzc-UFWx7",
        "outputId": "b5750826-5181-4646-f00c-c818a08b1444"
      },
      "execution_count": 75,
      "outputs": [
        {
          "output_type": "stream",
          "name": "stdout",
          "text": [
            "###########################################################################\n",
            "size of x is\n",
            "(None, 227, 227, 3)\n",
            "###########################################################################\n",
            "size after 1st conv layer) is \n",
            "(None, 28, 28, 96)\n",
            "###########################################################################\n",
            "size after 2nd conv layer) is \n",
            "(None, 13, 13, 256)\n",
            "###########################################################################\n",
            "size after 3rd conv layer) is \n",
            "(None, 13, 13, 384)\n",
            "###########################################################################\n",
            "size after 4th conv layer) is \n",
            "(None, 13, 13, 384)\n",
            "###########################################################################\n",
            "size after 5th conv layer) is \n",
            "(None, 13, 13, 256)\n",
            "###########################################################################\n",
            "size after 5th conv layer pooling) is \n",
            "(None, 6, 6, 256)\n",
            "###########################################################################\n",
            "size after reshaping the image ) is \n",
            "(None, 9216)\n",
            "###########################################################################\n",
            "size after 7th layer) is \n",
            "(None, 4096)\n",
            "Tensor(\"Softmax:0\", shape=(None, 3), dtype=float32)\n"
          ]
        }
      ]
    },
    {
      "cell_type": "code",
      "source": [
        "learning_rate=0.01\n",
        "# Define loss and optimizer\n",
        "cost = tf.reduce_mean(tf.nn.softmax_cross_entropy_with_logits(logits=model, labels=y_))\n",
        "optimizer = tf.compat.v1.train.AdamOptimizer(learning_rate=learning_rate).minimize(cost)"
      ],
      "metadata": {
        "id": "xbEGKA8FFW0J"
      },
      "execution_count": 85,
      "outputs": []
    },
    {
      "cell_type": "code",
      "source": [
        "init = tf.compat.v1.global_variables_initializer()"
      ],
      "metadata": {
        "id": "nRYUILAUFW2T"
      },
      "execution_count": 86,
      "outputs": []
    },
    {
      "cell_type": "code",
      "source": [
        "cost_history=[]\n",
        "n_epochs =5\n",
        "# the execution\n",
        "sess = tf.compat.v1.Session()\n",
        "sess.run(init)\n",
        "\n",
        "# train_y = train_y.toarray()\n",
        "\n",
        "\n",
        "for i in range(n_epochs):\n",
        "    a, c = sess.run([optimizer, cost], feed_dict={x: train_x, y_: train_y})  #working\n",
        "    cost_history = np.append(cost_history,c)  # working\n",
        "    print('epoch : ', i,  ' - ', 'cost: ', c) #working"
      ],
      "metadata": {
        "colab": {
          "base_uri": "https://localhost:8080/"
        },
        "id": "BNNsDSLJKyR6",
        "outputId": "38820fbc-db10-49a0-dd46-d10cb50068e5"
      },
      "execution_count": 89,
      "outputs": [
        {
          "output_type": "stream",
          "name": "stdout",
          "text": [
            "epoch :  0  -  cost:  1.0514449\n",
            "epoch :  1  -  cost:  0.9403338\n",
            "epoch :  2  -  cost:  0.9403338\n",
            "epoch :  3  -  cost:  0.9403338\n",
            "epoch :  4  -  cost:  0.9403338\n"
          ]
        }
      ]
    },
    {
      "cell_type": "code",
      "source": [],
      "metadata": {
        "id": "lm1930NXKyUl"
      },
      "execution_count": null,
      "outputs": []
    },
    {
      "cell_type": "code",
      "source": [],
      "metadata": {
        "id": "yWyXCVxmKyX3"
      },
      "execution_count": null,
      "outputs": []
    },
    {
      "cell_type": "code",
      "source": [],
      "metadata": {
        "id": "cntdf8uZFW4i"
      },
      "execution_count": null,
      "outputs": []
    },
    {
      "cell_type": "code",
      "source": [],
      "metadata": {
        "id": "nGJ2LRyRFW6u"
      },
      "execution_count": null,
      "outputs": []
    },
    {
      "cell_type": "code",
      "source": [],
      "metadata": {
        "id": "HQWKXq5cFW9I"
      },
      "execution_count": null,
      "outputs": []
    },
    {
      "cell_type": "code",
      "source": [],
      "metadata": {
        "id": "_V8bAhh0FXAf"
      },
      "execution_count": null,
      "outputs": []
    }
  ],
  "metadata": {
    "colab": {
      "provenance": [],
      "authorship_tag": "ABX9TyN7QjQoOUo7dXEhS2NYsk45",
      "include_colab_link": true
    },
    "kernelspec": {
      "display_name": "Python 3",
      "name": "python3"
    },
    "language_info": {
      "name": "python"
    }
  },
  "nbformat": 4,
  "nbformat_minor": 0
}