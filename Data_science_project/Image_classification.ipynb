{
  "cells": [
    {
      "cell_type": "markdown",
      "metadata": {
        "id": "view-in-github",
        "colab_type": "text"
      },
      "source": [
        "<a href=\"https://colab.research.google.com/github/gulamkibria775/Data_science_project/blob/main/Data_science_project/Image_classification.ipynb\" target=\"_parent\"><img src=\"https://colab.research.google.com/assets/colab-badge.svg\" alt=\"Open In Colab\"/></a>"
      ]
    },
    {
      "cell_type": "code",
      "execution_count": 1,
      "metadata": {
        "colab": {
          "base_uri": "https://localhost:8080/"
        },
        "id": "3mE9CiLqVSVS",
        "outputId": "111e4ef2-6b9d-4807-d35f-d2cc0b1f3bb8"
      },
      "outputs": [
        {
          "output_type": "stream",
          "name": "stdout",
          "text": [
            "Mounted at /content/driver\n"
          ]
        }
      ],
      "source": [
        "from google.colab import drive\n",
        "drive.mount('/content/driver')"
      ]
    },
    {
      "cell_type": "code",
      "execution_count": 2,
      "metadata": {
        "colab": {
          "base_uri": "https://localhost:8080/"
        },
        "id": "BqJ8dHbEVyzm",
        "outputId": "128d4f7f-735b-4a66-f5d5-60ef5bd9a85a"
      },
      "outputs": [
        {
          "output_type": "stream",
          "name": "stdout",
          "text": [
            "['bed_room', 'living_room', 'dining_room']\n"
          ]
        }
      ],
      "source": [
        "import pandas as pd\n",
        "import numpy as np\n",
        "import matplotlib.pyplot as plt\n",
        "import os\n",
        "data_path=os.listdir(\"/content/driver/MyDrive/All_data_file/rooms\")\n",
        "room_types=os.listdir(\"/content/driver/MyDrive/All_data_file/rooms\")\n",
        "print(room_types)"
      ]
    },
    {
      "cell_type": "code",
      "execution_count": null,
      "metadata": {
        "id": "2asmS5RVWzMp"
      },
      "outputs": [],
      "source": [
        "rooms=[]\n",
        "for item in room_types:\n",
        "  all_rooms=os.listdir('/content/driver/MyDrive/All_data_file/rooms'+'/'+item)\n",
        "  for room in all_rooms:\n",
        "    rooms.append((item,str('/content/driver/MyDrive/All_data_file/rooms'+'/'+item)+'/'+room))\n",
        "    print(rooms[:1])"
      ]
    },
    {
      "cell_type": "code",
      "execution_count": null,
      "metadata": {
        "id": "p1Ighyk-X303"
      },
      "outputs": [],
      "source": [
        "rooms\n"
      ]
    },
    {
      "cell_type": "code",
      "execution_count": 4,
      "metadata": {
        "colab": {
          "base_uri": "https://localhost:8080/",
          "height": 206
        },
        "id": "v8a7L4_MYcWT",
        "outputId": "df4aed3c-2390-4557-a4ed-1d4278215897"
      },
      "outputs": [
        {
          "output_type": "execute_result",
          "data": {
            "text/plain": [
              "  room type                                              image\n",
              "0  bed_room  /content/driver/MyDrive/All_data_file/rooms/be...\n",
              "1  bed_room  /content/driver/MyDrive/All_data_file/rooms/be...\n",
              "2  bed_room  /content/driver/MyDrive/All_data_file/rooms/be...\n",
              "3  bed_room  /content/driver/MyDrive/All_data_file/rooms/be...\n",
              "4  bed_room  /content/driver/MyDrive/All_data_file/rooms/be..."
            ],
            "text/html": [
              "\n",
              "  <div id=\"df-3c43d663-4c68-47bc-ab2c-40e4938f1f63\" class=\"colab-df-container\">\n",
              "    <div>\n",
              "<style scoped>\n",
              "    .dataframe tbody tr th:only-of-type {\n",
              "        vertical-align: middle;\n",
              "    }\n",
              "\n",
              "    .dataframe tbody tr th {\n",
              "        vertical-align: top;\n",
              "    }\n",
              "\n",
              "    .dataframe thead th {\n",
              "        text-align: right;\n",
              "    }\n",
              "</style>\n",
              "<table border=\"1\" class=\"dataframe\">\n",
              "  <thead>\n",
              "    <tr style=\"text-align: right;\">\n",
              "      <th></th>\n",
              "      <th>room type</th>\n",
              "      <th>image</th>\n",
              "    </tr>\n",
              "  </thead>\n",
              "  <tbody>\n",
              "    <tr>\n",
              "      <th>0</th>\n",
              "      <td>bed_room</td>\n",
              "      <td>/content/driver/MyDrive/All_data_file/rooms/be...</td>\n",
              "    </tr>\n",
              "    <tr>\n",
              "      <th>1</th>\n",
              "      <td>bed_room</td>\n",
              "      <td>/content/driver/MyDrive/All_data_file/rooms/be...</td>\n",
              "    </tr>\n",
              "    <tr>\n",
              "      <th>2</th>\n",
              "      <td>bed_room</td>\n",
              "      <td>/content/driver/MyDrive/All_data_file/rooms/be...</td>\n",
              "    </tr>\n",
              "    <tr>\n",
              "      <th>3</th>\n",
              "      <td>bed_room</td>\n",
              "      <td>/content/driver/MyDrive/All_data_file/rooms/be...</td>\n",
              "    </tr>\n",
              "    <tr>\n",
              "      <th>4</th>\n",
              "      <td>bed_room</td>\n",
              "      <td>/content/driver/MyDrive/All_data_file/rooms/be...</td>\n",
              "    </tr>\n",
              "  </tbody>\n",
              "</table>\n",
              "</div>\n",
              "    <div class=\"colab-df-buttons\">\n",
              "\n",
              "  <div class=\"colab-df-container\">\n",
              "    <button class=\"colab-df-convert\" onclick=\"convertToInteractive('df-3c43d663-4c68-47bc-ab2c-40e4938f1f63')\"\n",
              "            title=\"Convert this dataframe to an interactive table.\"\n",
              "            style=\"display:none;\">\n",
              "\n",
              "  <svg xmlns=\"http://www.w3.org/2000/svg\" height=\"24px\" viewBox=\"0 -960 960 960\">\n",
              "    <path d=\"M120-120v-720h720v720H120Zm60-500h600v-160H180v160Zm220 220h160v-160H400v160Zm0 220h160v-160H400v160ZM180-400h160v-160H180v160Zm440 0h160v-160H620v160ZM180-180h160v-160H180v160Zm440 0h160v-160H620v160Z\"/>\n",
              "  </svg>\n",
              "    </button>\n",
              "\n",
              "  <style>\n",
              "    .colab-df-container {\n",
              "      display:flex;\n",
              "      gap: 12px;\n",
              "    }\n",
              "\n",
              "    .colab-df-convert {\n",
              "      background-color: #E8F0FE;\n",
              "      border: none;\n",
              "      border-radius: 50%;\n",
              "      cursor: pointer;\n",
              "      display: none;\n",
              "      fill: #1967D2;\n",
              "      height: 32px;\n",
              "      padding: 0 0 0 0;\n",
              "      width: 32px;\n",
              "    }\n",
              "\n",
              "    .colab-df-convert:hover {\n",
              "      background-color: #E2EBFA;\n",
              "      box-shadow: 0px 1px 2px rgba(60, 64, 67, 0.3), 0px 1px 3px 1px rgba(60, 64, 67, 0.15);\n",
              "      fill: #174EA6;\n",
              "    }\n",
              "\n",
              "    .colab-df-buttons div {\n",
              "      margin-bottom: 4px;\n",
              "    }\n",
              "\n",
              "    [theme=dark] .colab-df-convert {\n",
              "      background-color: #3B4455;\n",
              "      fill: #D2E3FC;\n",
              "    }\n",
              "\n",
              "    [theme=dark] .colab-df-convert:hover {\n",
              "      background-color: #434B5C;\n",
              "      box-shadow: 0px 1px 3px 1px rgba(0, 0, 0, 0.15);\n",
              "      filter: drop-shadow(0px 1px 2px rgba(0, 0, 0, 0.3));\n",
              "      fill: #FFFFFF;\n",
              "    }\n",
              "  </style>\n",
              "\n",
              "    <script>\n",
              "      const buttonEl =\n",
              "        document.querySelector('#df-3c43d663-4c68-47bc-ab2c-40e4938f1f63 button.colab-df-convert');\n",
              "      buttonEl.style.display =\n",
              "        google.colab.kernel.accessAllowed ? 'block' : 'none';\n",
              "\n",
              "      async function convertToInteractive(key) {\n",
              "        const element = document.querySelector('#df-3c43d663-4c68-47bc-ab2c-40e4938f1f63');\n",
              "        const dataTable =\n",
              "          await google.colab.kernel.invokeFunction('convertToInteractive',\n",
              "                                                    [key], {});\n",
              "        if (!dataTable) return;\n",
              "\n",
              "        const docLinkHtml = 'Like what you see? Visit the ' +\n",
              "          '<a target=\"_blank\" href=https://colab.research.google.com/notebooks/data_table.ipynb>data table notebook</a>'\n",
              "          + ' to learn more about interactive tables.';\n",
              "        element.innerHTML = '';\n",
              "        dataTable['output_type'] = 'display_data';\n",
              "        await google.colab.output.renderOutput(dataTable, element);\n",
              "        const docLink = document.createElement('div');\n",
              "        docLink.innerHTML = docLinkHtml;\n",
              "        element.appendChild(docLink);\n",
              "      }\n",
              "    </script>\n",
              "  </div>\n",
              "\n",
              "\n",
              "<div id=\"df-34c76a69-5d6e-4d70-986c-61a7900cad61\">\n",
              "  <button class=\"colab-df-quickchart\" onclick=\"quickchart('df-34c76a69-5d6e-4d70-986c-61a7900cad61')\"\n",
              "            title=\"Suggest charts\"\n",
              "            style=\"display:none;\">\n",
              "\n",
              "<svg xmlns=\"http://www.w3.org/2000/svg\" height=\"24px\"viewBox=\"0 0 24 24\"\n",
              "     width=\"24px\">\n",
              "    <g>\n",
              "        <path d=\"M19 3H5c-1.1 0-2 .9-2 2v14c0 1.1.9 2 2 2h14c1.1 0 2-.9 2-2V5c0-1.1-.9-2-2-2zM9 17H7v-7h2v7zm4 0h-2V7h2v10zm4 0h-2v-4h2v4z\"/>\n",
              "    </g>\n",
              "</svg>\n",
              "  </button>\n",
              "\n",
              "<style>\n",
              "  .colab-df-quickchart {\n",
              "      --bg-color: #E8F0FE;\n",
              "      --fill-color: #1967D2;\n",
              "      --hover-bg-color: #E2EBFA;\n",
              "      --hover-fill-color: #174EA6;\n",
              "      --disabled-fill-color: #AAA;\n",
              "      --disabled-bg-color: #DDD;\n",
              "  }\n",
              "\n",
              "  [theme=dark] .colab-df-quickchart {\n",
              "      --bg-color: #3B4455;\n",
              "      --fill-color: #D2E3FC;\n",
              "      --hover-bg-color: #434B5C;\n",
              "      --hover-fill-color: #FFFFFF;\n",
              "      --disabled-bg-color: #3B4455;\n",
              "      --disabled-fill-color: #666;\n",
              "  }\n",
              "\n",
              "  .colab-df-quickchart {\n",
              "    background-color: var(--bg-color);\n",
              "    border: none;\n",
              "    border-radius: 50%;\n",
              "    cursor: pointer;\n",
              "    display: none;\n",
              "    fill: var(--fill-color);\n",
              "    height: 32px;\n",
              "    padding: 0;\n",
              "    width: 32px;\n",
              "  }\n",
              "\n",
              "  .colab-df-quickchart:hover {\n",
              "    background-color: var(--hover-bg-color);\n",
              "    box-shadow: 0 1px 2px rgba(60, 64, 67, 0.3), 0 1px 3px 1px rgba(60, 64, 67, 0.15);\n",
              "    fill: var(--button-hover-fill-color);\n",
              "  }\n",
              "\n",
              "  .colab-df-quickchart-complete:disabled,\n",
              "  .colab-df-quickchart-complete:disabled:hover {\n",
              "    background-color: var(--disabled-bg-color);\n",
              "    fill: var(--disabled-fill-color);\n",
              "    box-shadow: none;\n",
              "  }\n",
              "\n",
              "  .colab-df-spinner {\n",
              "    border: 2px solid var(--fill-color);\n",
              "    border-color: transparent;\n",
              "    border-bottom-color: var(--fill-color);\n",
              "    animation:\n",
              "      spin 1s steps(1) infinite;\n",
              "  }\n",
              "\n",
              "  @keyframes spin {\n",
              "    0% {\n",
              "      border-color: transparent;\n",
              "      border-bottom-color: var(--fill-color);\n",
              "      border-left-color: var(--fill-color);\n",
              "    }\n",
              "    20% {\n",
              "      border-color: transparent;\n",
              "      border-left-color: var(--fill-color);\n",
              "      border-top-color: var(--fill-color);\n",
              "    }\n",
              "    30% {\n",
              "      border-color: transparent;\n",
              "      border-left-color: var(--fill-color);\n",
              "      border-top-color: var(--fill-color);\n",
              "      border-right-color: var(--fill-color);\n",
              "    }\n",
              "    40% {\n",
              "      border-color: transparent;\n",
              "      border-right-color: var(--fill-color);\n",
              "      border-top-color: var(--fill-color);\n",
              "    }\n",
              "    60% {\n",
              "      border-color: transparent;\n",
              "      border-right-color: var(--fill-color);\n",
              "    }\n",
              "    80% {\n",
              "      border-color: transparent;\n",
              "      border-right-color: var(--fill-color);\n",
              "      border-bottom-color: var(--fill-color);\n",
              "    }\n",
              "    90% {\n",
              "      border-color: transparent;\n",
              "      border-bottom-color: var(--fill-color);\n",
              "    }\n",
              "  }\n",
              "</style>\n",
              "\n",
              "  <script>\n",
              "    async function quickchart(key) {\n",
              "      const quickchartButtonEl =\n",
              "        document.querySelector('#' + key + ' button');\n",
              "      quickchartButtonEl.disabled = true;  // To prevent multiple clicks.\n",
              "      quickchartButtonEl.classList.add('colab-df-spinner');\n",
              "      try {\n",
              "        const charts = await google.colab.kernel.invokeFunction(\n",
              "            'suggestCharts', [key], {});\n",
              "      } catch (error) {\n",
              "        console.error('Error during call to suggestCharts:', error);\n",
              "      }\n",
              "      quickchartButtonEl.classList.remove('colab-df-spinner');\n",
              "      quickchartButtonEl.classList.add('colab-df-quickchart-complete');\n",
              "    }\n",
              "    (() => {\n",
              "      let quickchartButtonEl =\n",
              "        document.querySelector('#df-34c76a69-5d6e-4d70-986c-61a7900cad61 button');\n",
              "      quickchartButtonEl.style.display =\n",
              "        google.colab.kernel.accessAllowed ? 'block' : 'none';\n",
              "    })();\n",
              "  </script>\n",
              "</div>\n",
              "\n",
              "    </div>\n",
              "  </div>\n"
            ]
          },
          "metadata": {},
          "execution_count": 4
        }
      ],
      "source": [
        "df=pd.DataFrame(data=rooms,columns=[\"room type\",\"image\"])\n",
        "df.head()"
      ]
    },
    {
      "cell_type": "code",
      "execution_count": 61,
      "metadata": {
        "colab": {
          "base_uri": "https://localhost:8080/"
        },
        "id": "xrDgwCUOY9Ul",
        "outputId": "31f02d6d-a602-4655-903b-58e278b60174"
      },
      "outputs": [
        {
          "output_type": "execute_result",
          "data": {
            "text/plain": [
              "living_room    34\n",
              "bed_room       12\n",
              "dining_room    11\n",
              "Name: room type, dtype: int64"
            ]
          },
          "metadata": {},
          "execution_count": 61
        }
      ],
      "source": [
        "room_count=df['room type'].value_counts()\n",
        "room_count"
      ]
    },
    {
      "cell_type": "code",
      "execution_count": 5,
      "metadata": {
        "id": "oZ9MAZY0ZcOo"
      },
      "outputs": [],
      "source": [
        "import cv2\n",
        "path=\"/content/driver/MyDrive/All_data_file/rooms\"\n",
        "im_size=60\n",
        "images=[]\n",
        "labels=[]\n",
        "for i in room_types:\n",
        "  data_path=path +'/'+str(i)\n",
        "  filenames=[i for i in os.listdir(data_path)]\n",
        "  for f in filenames:\n",
        "        img = cv2.imread(data_path + '/' + f)  # reading that image as array\n",
        "        #print(img)  # will get the image as an array\n",
        "        img = cv2.resize(img, (im_size, im_size))\n",
        "        images.append(img)\n",
        "        labels.append(i)\n"
      ]
    },
    {
      "cell_type": "code",
      "source": [
        "images = np.array(images)\n",
        "\n",
        "images.shape"
      ],
      "metadata": {
        "colab": {
          "base_uri": "https://localhost:8080/"
        },
        "id": "ST9FfldqlNh_",
        "outputId": "8afecd59-9104-4542-cd6a-a90f12e5720f"
      },
      "execution_count": 6,
      "outputs": [
        {
          "output_type": "execute_result",
          "data": {
            "text/plain": [
              "(57, 60, 60, 3)"
            ]
          },
          "metadata": {},
          "execution_count": 6
        }
      ]
    },
    {
      "cell_type": "code",
      "source": [
        "images = images.astype('float32') / 255.0"
      ],
      "metadata": {
        "id": "VDfwhvoYlRmm"
      },
      "execution_count": 7,
      "outputs": []
    },
    {
      "cell_type": "code",
      "source": [
        "images.shape"
      ],
      "metadata": {
        "colab": {
          "base_uri": "https://localhost:8080/"
        },
        "id": "MnBktA-W9Wce",
        "outputId": "6c1085da-bc73-4dd5-fa82-af95b5dc2b79"
      },
      "execution_count": 9,
      "outputs": [
        {
          "output_type": "execute_result",
          "data": {
            "text/plain": [
              "(57, 60, 60, 3)"
            ]
          },
          "metadata": {},
          "execution_count": 9
        }
      ]
    },
    {
      "cell_type": "code",
      "source": [
        "from sklearn.preprocessing import LabelEncoder , OneHotEncoder\n",
        "\n",
        "\n",
        "y=df['room type'].values\n",
        "print(y[:5])"
      ],
      "metadata": {
        "colab": {
          "base_uri": "https://localhost:8080/"
        },
        "id": "LtECOAFblRpM",
        "outputId": "aba9282e-02fa-42c3-e7be-3f652b215d2a"
      },
      "execution_count": 10,
      "outputs": [
        {
          "output_type": "stream",
          "name": "stdout",
          "text": [
            "['bed_room' 'bed_room' 'bed_room' 'bed_room' 'bed_room']\n"
          ]
        }
      ]
    },
    {
      "cell_type": "code",
      "source": [
        "y_labelencoder = LabelEncoder ()\n",
        "y = y_labelencoder.fit_transform (y)\n",
        "print (y)\n",
        "\n"
      ],
      "metadata": {
        "colab": {
          "base_uri": "https://localhost:8080/"
        },
        "id": "U5zhd3ZKlRsu",
        "outputId": "6798b1a8-300a-4d68-b78f-7c879815097a"
      },
      "execution_count": 11,
      "outputs": [
        {
          "output_type": "stream",
          "name": "stdout",
          "text": [
            "[0 0 0 0 0 0 0 0 0 0 0 0 2 2 2 2 2 2 2 2 2 2 2 2 2 2 2 2 2 2 2 2 2 2 2 2 2\n",
            " 2 2 2 2 2 2 2 2 2 1 1 1 1 1 1 1 1 1 1 1]\n"
          ]
        }
      ]
    },
    {
      "cell_type": "code",
      "execution_count": 18,
      "metadata": {
        "id": "zzz9biiTZ3oi",
        "colab": {
          "base_uri": "https://localhost:8080/"
        },
        "outputId": "b1345653-7aad-4680-8a40-97420d6cadf9"
      },
      "outputs": [
        {
          "output_type": "execute_result",
          "data": {
            "text/plain": [
              "(57, 3)"
            ]
          },
          "metadata": {},
          "execution_count": 18
        }
      ],
      "source": [
        "y=y.reshape(-1,1)\n",
        "onehotencoder = OneHotEncoder()  #Converted  scalar output into vector output where the correct class will be 1 and other will be 0\n",
        "Y= onehotencoder.fit_transform(y)\n",
        "Y.shape\n",
        "\n",
        "# from sklearn.compose import ColumnTransformer\n",
        "# ct = ColumnTransformer([(\"Name_Of_Your_Step\", OneHotEncoder(),[0])], remainder=\"passthrough\") # The last arg ([0]) is the list of columns you want to transform in this step\n",
        "# y=ct.fit_transform(y)\n",
        "# y.shape\n",
        "Y.shape\n"
      ]
    },
    {
      "cell_type": "code",
      "source": [
        "Y.shape\n"
      ],
      "metadata": {
        "colab": {
          "base_uri": "https://localhost:8080/"
        },
        "id": "hNfLwSX5-i8n",
        "outputId": "229429ae-1710-4465-c678-96fac9a67ee6"
      },
      "execution_count": 19,
      "outputs": [
        {
          "output_type": "execute_result",
          "data": {
            "text/plain": [
              "(57, 3)"
            ]
          },
          "metadata": {},
          "execution_count": 19
        }
      ]
    },
    {
      "cell_type": "code",
      "source": [
        "Y.shape"
      ],
      "metadata": {
        "colab": {
          "base_uri": "https://localhost:8080/"
        },
        "id": "Pu65pVaC-Wpo",
        "outputId": "d1f64df5-b777-4aa9-f634-1aa7f8e617c7"
      },
      "execution_count": 20,
      "outputs": [
        {
          "output_type": "execute_result",
          "data": {
            "text/plain": [
              "(57, 3)"
            ]
          },
          "metadata": {},
          "execution_count": 20
        }
      ]
    },
    {
      "cell_type": "code",
      "source": [
        "from sklearn.utils import shuffle\n",
        "from sklearn.model_selection import train_test_split\n",
        "\n",
        "\n",
        "images, Y = shuffle(images, Y, random_state=1)\n",
        "\n",
        "train_x, test_x, train_y, test_y = train_test_split(images, Y, test_size=0.05, random_state=415)\n",
        "\n",
        "#inpect the shape of the training and testing.\n",
        "print(train_x.shape)\n",
        "print(train_y.shape)\n",
        "print(test_x.shape)\n",
        "print(test_y.shape)"
      ],
      "metadata": {
        "colab": {
          "base_uri": "https://localhost:8080/"
        },
        "id": "fJWXRBvFoHq0",
        "outputId": "1c303204-b5d3-4504-dd39-3597c6868f07"
      },
      "execution_count": 21,
      "outputs": [
        {
          "output_type": "stream",
          "name": "stdout",
          "text": [
            "(54, 60, 60, 3)\n",
            "(54, 3)\n",
            "(3, 60, 60, 3)\n",
            "(3, 3)\n"
          ]
        }
      ]
    },
    {
      "cell_type": "code",
      "source": [
        "Y.shape"
      ],
      "metadata": {
        "colab": {
          "base_uri": "https://localhost:8080/"
        },
        "id": "czBm6es9-P3u",
        "outputId": "260cd516-8b51-48dd-8b0a-9d40c04599d7"
      },
      "execution_count": 22,
      "outputs": [
        {
          "output_type": "execute_result",
          "data": {
            "text/plain": [
              "(57, 3)"
            ]
          },
          "metadata": {},
          "execution_count": 22
        }
      ]
    },
    {
      "cell_type": "code",
      "source": [
        "import tensorflow as tf\n",
        "# Number of classes, one class for each of 5 flower.\n",
        "num_classes = 3\n",
        "\n",
        "# flattened imge\n",
        "n_input = 10800\n",
        "\n",
        "\n",
        "# architecture hyper-parameter\n",
        "learning_rate = 0.001\n",
        "training_iters = 10\n",
        "batch_size = 16\n",
        "display_step = 20"
      ],
      "metadata": {
        "id": "_ftxac3Do8Nk"
      },
      "execution_count": 23,
      "outputs": []
    },
    {
      "cell_type": "code",
      "source": [
        "img_size=60\n",
        "num_channels=3\n",
        "tf.compat.v1.disable_eager_execution()\n",
        "# import tensorflow.compat.v1 as tf\n",
        "#x = tf.placeholder(tf.float32, [None, n_input])\n",
        "x = tf.compat.v1.placeholder(tf.float32, shape=[None, img_size,img_size,num_channels])  # None,60,60,3\n",
        "\n",
        "y_ = tf.compat.v1.placeholder(tf.float32, [None, num_classes]) # None,3\n",
        "\n",
        "\n",
        "\n",
        "print('Shape of placeholder',x.shape, y_.shape)"
      ],
      "metadata": {
        "colab": {
          "base_uri": "https://localhost:8080/"
        },
        "id": "WPIsrLVAppR3",
        "outputId": "c021ed04-b394-4046-ef52-df58625d38dd"
      },
      "execution_count": 27,
      "outputs": [
        {
          "output_type": "stream",
          "name": "stdout",
          "text": [
            "Shape of placeholder (None, 60, 60, 3) (None, 3)\n"
          ]
        }
      ]
    },
    {
      "cell_type": "code",
      "source": [
        "def conv2d(x, W, b, strides=1):\n",
        "    x = tf.nn.conv2d(x, W, strides=[1, strides, strides, 1], padding='SAME')   # summation = wx+b, Activation\n",
        "    x = tf.nn.bias_add(x, b)\n",
        "    return tf.nn.relu(x)\n",
        "\n",
        "def maxpool2d(x, k=2):\n",
        "    return tf.nn.max_pool(x, ksize=[1, k, k, 1], strides=[1, k, k, 1], padding='SAME')\n",
        "weights = {\n",
        "    'w1': tf.Variable(tf.random.normal([5, 5, 3, 32]),name='w1'),\n",
        "    'w2': tf.Variable(tf.random.normal([5, 5, 32, 64]),name='w2'),\n",
        "    'w3': tf.Variable(tf.random.normal([5, 5, 64, 128]),name='w3'),\n",
        "    'wd1': tf.Variable(tf.random.normal([8 * 8 * 128, 2048]),name='wd1'),\n",
        "    'wout': tf.Variable(tf.random.normal([2048, num_classes]),name='wout')\n",
        "}\n",
        "\n",
        "biases = {\n",
        "    'b1': tf.Variable(tf.random.normal([32]),name='b1'),\n",
        "    'b2': tf.Variable(tf.random.normal([64]),name='b2'),\n",
        "    'b3': tf.Variable(tf.random.normal([128]),name='b3'),\n",
        "    'bd1': tf.Variable(tf.random.normal([2048]),name='bd1'),\n",
        "    'bout': tf.Variable(tf.random.normal([num_classes]),name='bout')\n",
        "}"
      ],
      "metadata": {
        "id": "H6x_oSfHra-Y"
      },
      "execution_count": 32,
      "outputs": []
    },
    {
      "cell_type": "code",
      "source": [
        "def conv_net(x, weights, biases):\n",
        "\n",
        "    # reshape input to 60x60x3 size\n",
        "    x = tf.reshape(x, shape=[-1, 60, 60, 3])\n",
        "\n",
        "    print(\"###########################################################################\")\n",
        "    print(\"size of x is\")\n",
        "    print(x.shape)\n",
        "\n",
        "\n",
        "    conv1 = conv2d(x, weights['w1'], biases['b1'])\n",
        "    conv1 = maxpool2d(conv1, k=2)\n",
        "    print(\"###########################################################################\")\n",
        "    print(\"size after 1st conv layer is \")\n",
        "    print(conv1.shape)\n",
        "\n",
        "\n",
        "    #input is 30*30*32 image\n",
        "    # Convolution Layer\n",
        "    conv2 = conv2d(conv1, weights['w2'], biases['b2'])\n",
        "    conv2 = maxpool2d(conv2, k=2)\n",
        "    print(\"###########################################################################\")\n",
        "    print(\"size after 2nd conv and pooling layer is\")\n",
        "    print(conv2.shape)\n",
        "\n",
        "\n",
        "    ### third conv layer\n",
        "    # input is 15*15*64 image\n",
        "    # Convolution Layer\n",
        "    conv3 = conv2d(conv2, weights['w3'], biases['b3'])\n",
        "\n",
        "    conv3 = maxpool2d(conv3, k=2)\n",
        "    print(\"###########################################################################\")\n",
        "    print(\"size after 3rd conv and pooling layer is\")\n",
        "    print(conv3.shape)\n",
        "    fc1 = tf.reshape(conv3, [-1, weights['wd1'].get_shape().as_list()[0]])\n",
        "    print(\"###########################################################################\")\n",
        "    print(\"shape after flattening the image\")\n",
        "    print(fc1)  #8192 is the output\n",
        "\n",
        "\n",
        "    fc1 = tf.add(tf.matmul(fc1, weights['wd1']), biases['bd1'])\n",
        "    fc1 = tf.nn.relu(fc1)\n",
        "    print(\"###########################################################################\")\n",
        "    print(\"shape after fully connected layer\")\n",
        "    print(fc1)\n",
        "\n",
        "\n",
        "    # Output, class prediction\n",
        "    # finally we multiply the fully connected layer with the weights and add a bias term.\n",
        "    out = tf.add(tf.matmul(fc1, weights['wout']), biases['bout'])\n",
        "    print(\"###########################################################################\")\n",
        "    print(\"Output layer\")\n",
        "    return out"
      ],
      "metadata": {
        "id": "LikXvnYorbBp"
      },
      "execution_count": 33,
      "outputs": []
    },
    {
      "cell_type": "code",
      "source": [
        "# Create the model\n",
        "model = conv_net(x, weights, biases)\n",
        "print(model)"
      ],
      "metadata": {
        "colab": {
          "base_uri": "https://localhost:8080/"
        },
        "id": "azzDEzNCrbFB",
        "outputId": "2de1c8b1-5817-4441-a6b0-2ec938d4eb75"
      },
      "execution_count": 34,
      "outputs": [
        {
          "output_type": "stream",
          "name": "stdout",
          "text": [
            "###########################################################################\n",
            "size of x is\n",
            "(None, 60, 60, 3)\n",
            "###########################################################################\n",
            "size after 1st conv layer is \n",
            "(None, 30, 30, 32)\n",
            "###########################################################################\n",
            "size after 2nd conv and pooling layer is\n",
            "(None, 15, 15, 64)\n",
            "###########################################################################\n",
            "size after 3rd conv and pooling layer is\n",
            "(None, 8, 8, 128)\n",
            "###########################################################################\n",
            "shape after flattening the image\n",
            "Tensor(\"Reshape_1:0\", shape=(None, 8192), dtype=float32)\n",
            "###########################################################################\n",
            "shape after fully connected layer\n",
            "Tensor(\"Relu_3:0\", shape=(None, 2048), dtype=float32)\n",
            "###########################################################################\n",
            "Output layer\n",
            "Tensor(\"Add_1:0\", shape=(None, 3), dtype=float32)\n"
          ]
        }
      ]
    },
    {
      "cell_type": "code",
      "source": [
        "# Define loss and optimizer\n",
        "cost = tf.reduce_mean(tf.nn.softmax_cross_entropy_with_logits(logits=model, labels=y_))\n",
        "optimizer = tf.compat.v1.train.AdamOptimizer(learning_rate=learning_rate).minimize(cost)"
      ],
      "metadata": {
        "id": "jj5TERtDsADs"
      },
      "execution_count": 38,
      "outputs": []
    },
    {
      "cell_type": "code",
      "source": [
        "init = tf.compat.v1.global_variables_initializer()"
      ],
      "metadata": {
        "id": "1Rhz_S_gsAHI"
      },
      "execution_count": 40,
      "outputs": []
    },
    {
      "cell_type": "code",
      "source": [
        "# cost_history=[]\n",
        "# n_epochs =10\n",
        "# # the execution\n",
        "# sess = tf.Session()\n",
        "# sess.run(init)\n",
        "\n",
        "# train_y=train_y.toarray()\n",
        "\n",
        "cost_history=[]\n",
        "n_epochs =5\n",
        "# the execution\n",
        "sess = tf.compat.v1.Session()\n",
        "sess.run(init)\n",
        "\n",
        "train_y = train_y.toarray()\n",
        "\n",
        "for i in range(n_epochs):\n",
        "    a, c = sess.run([optimizer, cost], feed_dict={x: train_x, y_: train_y})  #working\n",
        "    cost_history = np.append(cost_history,c)  # working\n",
        "    print('epoch : ', i,  ' - ', 'cost: ', c)"
      ],
      "metadata": {
        "colab": {
          "base_uri": "https://localhost:8080/"
        },
        "id": "NPS7csn_sAIs",
        "outputId": "53a808a4-0ad0-477c-e482-a78210905153"
      },
      "execution_count": 41,
      "outputs": [
        {
          "output_type": "stream",
          "name": "stdout",
          "text": [
            "epoch :  0  -  cost:  11610616.0\n",
            "epoch :  1  -  cost:  2119775.0\n",
            "epoch :  2  -  cost:  4474184.5\n",
            "epoch :  3  -  cost:  4183803.8\n",
            "epoch :  4  -  cost:  5166564.0\n"
          ]
        }
      ]
    },
    {
      "cell_type": "code",
      "source": [
        "test_y=test_y.todense()  #working solution of ValueError: setting an array element with a sequence.\n",
        "#print(test_y)\n",
        "\n",
        "correct_prediction = tf.equal(tf.argmax(model,1), tf.argmax(y_,1))\n",
        "correct_prediction\n",
        "\n",
        "accuracy = tf.reduce_mean(tf.cast(correct_prediction, tf.float32))\n",
        "accuracy\n",
        "\n",
        "\n",
        "# retrun the accuracy on the test set.\n",
        "print(\"Accuracy: \", sess.run(accuracy, feed_dict={x: test_x, y_:test_y}))"
      ],
      "metadata": {
        "colab": {
          "base_uri": "https://localhost:8080/"
        },
        "id": "e6mZ58mdsAL9",
        "outputId": "05f7b87a-77ee-4658-8766-7a229db4df3b"
      },
      "execution_count": 42,
      "outputs": [
        {
          "output_type": "stream",
          "name": "stdout",
          "text": [
            "Accuracy:  0.33333334\n"
          ]
        }
      ]
    },
    {
      "cell_type": "code",
      "source": [],
      "metadata": {
        "id": "RjNYlhp8sAOf"
      },
      "execution_count": null,
      "outputs": []
    },
    {
      "cell_type": "code",
      "source": [],
      "metadata": {
        "id": "UHStFsXVsASI"
      },
      "execution_count": null,
      "outputs": []
    },
    {
      "cell_type": "code",
      "source": [
        "tf.__version__"
      ],
      "metadata": {
        "colab": {
          "base_uri": "https://localhost:8080/",
          "height": 38
        },
        "id": "oyew_Q6QqT8V",
        "outputId": "6c7f3c4f-0753-4c9b-d1f9-721f91684a57"
      },
      "execution_count": 93,
      "outputs": [
        {
          "output_type": "execute_result",
          "data": {
            "text/plain": [
              "'2.15.0'"
            ],
            "application/vnd.google.colaboratory.intrinsic+json": {
              "type": "string"
            }
          },
          "metadata": {},
          "execution_count": 93
        }
      ]
    }
  ],
  "metadata": {
    "colab": {
      "provenance": [],
      "authorship_tag": "ABX9TyNPTYQ+jAdf+Jw/RomtaDiY",
      "include_colab_link": true
    },
    "kernelspec": {
      "display_name": "Python 3",
      "name": "python3"
    },
    "language_info": {
      "name": "python"
    }
  },
  "nbformat": 4,
  "nbformat_minor": 0
}